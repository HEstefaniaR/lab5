{
 "cells": [
  {
   "cell_type": "code",
   "execution_count": 117,
   "id": "95706f31",
   "metadata": {},
   "outputs": [],
   "source": [
    "import pandas as pd\n",
    "import numpy as np\n",
    "from datetime import datetime\n",
    "import re "
   ]
  },
  {
   "cell_type": "markdown",
   "id": "9d351abe",
   "metadata": {},
   "source": [
    "# Exploratory Data Analysis"
   ]
  },
  {
   "cell_type": "code",
   "execution_count": 118,
   "id": "fc4d7392",
   "metadata": {},
   "outputs": [
    {
     "name": "stdout",
     "output_type": "stream",
     "text": [
      "<class 'pandas.core.frame.DataFrame'>\n",
      "RangeIndex: 5268 entries, 0 to 5267\n",
      "Data columns (total 14 columns):\n",
      " #   Column        Non-Null Count  Dtype  \n",
      "---  ------        --------------  -----  \n",
      " 0   index         5268 non-null   int64  \n",
      " 1   Date          5268 non-null   object \n",
      " 2   Time          3049 non-null   object \n",
      " 3   Location      5248 non-null   object \n",
      " 4   Operator      5250 non-null   object \n",
      " 5   Flight #      1069 non-null   object \n",
      " 6   Route         3561 non-null   object \n",
      " 7   Type          5241 non-null   object \n",
      " 8   Registration  4933 non-null   object \n",
      " 9   cn/In         4040 non-null   object \n",
      " 10  Aboard        5246 non-null   float64\n",
      " 11  Fatalities    5256 non-null   float64\n",
      " 12  Ground        5246 non-null   float64\n",
      " 13  Summary       4878 non-null   object \n",
      "dtypes: float64(3), int64(1), object(10)\n",
      "memory usage: 576.3+ KB\n"
     ]
    },
    {
     "data": {
      "text/html": [
       "<div>\n",
       "<style scoped>\n",
       "    .dataframe tbody tr th:only-of-type {\n",
       "        vertical-align: middle;\n",
       "    }\n",
       "\n",
       "    .dataframe tbody tr th {\n",
       "        vertical-align: top;\n",
       "    }\n",
       "\n",
       "    .dataframe thead th {\n",
       "        text-align: right;\n",
       "    }\n",
       "</style>\n",
       "<table border=\"1\" class=\"dataframe\">\n",
       "  <thead>\n",
       "    <tr style=\"text-align: right;\">\n",
       "      <th></th>\n",
       "      <th>index</th>\n",
       "      <th>Date</th>\n",
       "      <th>Time</th>\n",
       "      <th>Location</th>\n",
       "      <th>Operator</th>\n",
       "      <th>Flight #</th>\n",
       "      <th>Route</th>\n",
       "      <th>Type</th>\n",
       "      <th>Registration</th>\n",
       "      <th>cn/In</th>\n",
       "      <th>Aboard</th>\n",
       "      <th>Fatalities</th>\n",
       "      <th>Ground</th>\n",
       "      <th>Summary</th>\n",
       "    </tr>\n",
       "  </thead>\n",
       "  <tbody>\n",
       "    <tr>\n",
       "      <th>0</th>\n",
       "      <td>0</td>\n",
       "      <td>09/17/1908</td>\n",
       "      <td>17:18</td>\n",
       "      <td>Fort Myer, Virginia</td>\n",
       "      <td>Military - U.S. Army</td>\n",
       "      <td>NaN</td>\n",
       "      <td>Demonstration</td>\n",
       "      <td>Wright Flyer III</td>\n",
       "      <td>NaN</td>\n",
       "      <td>1</td>\n",
       "      <td>2.0</td>\n",
       "      <td>1.0</td>\n",
       "      <td>0.0</td>\n",
       "      <td>During a demonstration flight, a U.S. Army fly...</td>\n",
       "    </tr>\n",
       "    <tr>\n",
       "      <th>1</th>\n",
       "      <td>1</td>\n",
       "      <td>07/12/1912</td>\n",
       "      <td>06:30</td>\n",
       "      <td>AtlantiCity, New Jersey</td>\n",
       "      <td>Military - U.S. Navy</td>\n",
       "      <td>NaN</td>\n",
       "      <td>Test flight</td>\n",
       "      <td>Dirigible</td>\n",
       "      <td>NaN</td>\n",
       "      <td>NaN</td>\n",
       "      <td>5.0</td>\n",
       "      <td>5.0</td>\n",
       "      <td>0.0</td>\n",
       "      <td>First U.S. dirigible Akron exploded just offsh...</td>\n",
       "    </tr>\n",
       "    <tr>\n",
       "      <th>2</th>\n",
       "      <td>2</td>\n",
       "      <td>08/06/1913</td>\n",
       "      <td>NaN</td>\n",
       "      <td>Victoria, British Columbia, Canada</td>\n",
       "      <td>Private</td>\n",
       "      <td>-</td>\n",
       "      <td>NaN</td>\n",
       "      <td>Curtiss seaplane</td>\n",
       "      <td>NaN</td>\n",
       "      <td>NaN</td>\n",
       "      <td>1.0</td>\n",
       "      <td>1.0</td>\n",
       "      <td>0.0</td>\n",
       "      <td>The first fatal airplane accident in Canada oc...</td>\n",
       "    </tr>\n",
       "    <tr>\n",
       "      <th>3</th>\n",
       "      <td>3</td>\n",
       "      <td>09/09/1913</td>\n",
       "      <td>18:30</td>\n",
       "      <td>Over the North Sea</td>\n",
       "      <td>Military - German Navy</td>\n",
       "      <td>NaN</td>\n",
       "      <td>NaN</td>\n",
       "      <td>Zeppelin L-1 (airship)</td>\n",
       "      <td>NaN</td>\n",
       "      <td>NaN</td>\n",
       "      <td>20.0</td>\n",
       "      <td>14.0</td>\n",
       "      <td>0.0</td>\n",
       "      <td>The airship flew into a thunderstorm and encou...</td>\n",
       "    </tr>\n",
       "    <tr>\n",
       "      <th>4</th>\n",
       "      <td>4</td>\n",
       "      <td>10/17/1913</td>\n",
       "      <td>10:30</td>\n",
       "      <td>Near Johannisthal, Germany</td>\n",
       "      <td>Military - German Navy</td>\n",
       "      <td>NaN</td>\n",
       "      <td>NaN</td>\n",
       "      <td>Zeppelin L-2 (airship)</td>\n",
       "      <td>NaN</td>\n",
       "      <td>NaN</td>\n",
       "      <td>30.0</td>\n",
       "      <td>30.0</td>\n",
       "      <td>0.0</td>\n",
       "      <td>Hydrogen gas which was being vented was sucked...</td>\n",
       "    </tr>\n",
       "  </tbody>\n",
       "</table>\n",
       "</div>"
      ],
      "text/plain": [
       "   index        Date   Time                            Location  \\\n",
       "0      0  09/17/1908  17:18                 Fort Myer, Virginia   \n",
       "1      1  07/12/1912  06:30             AtlantiCity, New Jersey   \n",
       "2      2  08/06/1913    NaN  Victoria, British Columbia, Canada   \n",
       "3      3  09/09/1913  18:30                  Over the North Sea   \n",
       "4      4  10/17/1913  10:30          Near Johannisthal, Germany   \n",
       "\n",
       "                 Operator Flight #          Route                    Type  \\\n",
       "0    Military - U.S. Army      NaN  Demonstration        Wright Flyer III   \n",
       "1    Military - U.S. Navy      NaN    Test flight               Dirigible   \n",
       "2                 Private        -            NaN        Curtiss seaplane   \n",
       "3  Military - German Navy      NaN            NaN  Zeppelin L-1 (airship)   \n",
       "4  Military - German Navy      NaN            NaN  Zeppelin L-2 (airship)   \n",
       "\n",
       "  Registration cn/In  Aboard  Fatalities  Ground  \\\n",
       "0          NaN     1     2.0         1.0     0.0   \n",
       "1          NaN   NaN     5.0         5.0     0.0   \n",
       "2          NaN   NaN     1.0         1.0     0.0   \n",
       "3          NaN   NaN    20.0        14.0     0.0   \n",
       "4          NaN   NaN    30.0        30.0     0.0   \n",
       "\n",
       "                                             Summary  \n",
       "0  During a demonstration flight, a U.S. Army fly...  \n",
       "1  First U.S. dirigible Akron exploded just offsh...  \n",
       "2  The first fatal airplane accident in Canada oc...  \n",
       "3  The airship flew into a thunderstorm and encou...  \n",
       "4  Hydrogen gas which was being vented was sucked...  "
      ]
     },
     "execution_count": 118,
     "metadata": {},
     "output_type": "execute_result"
    }
   ],
   "source": [
    "df = pd.read_csv(\"data/Airplane_Crashes_and_Fatalities_Since_1908.csv\")\n",
    "df.info()\n",
    "df.head()"
   ]
  },
  {
   "cell_type": "code",
   "execution_count": 119,
   "id": "eea4afe7",
   "metadata": {},
   "outputs": [
    {
     "name": "stdout",
     "output_type": "stream",
     "text": [
      "Dimensiones: (5268, 14)\n"
     ]
    }
   ],
   "source": [
    "# Número de filas y columnas\n",
    "print(\"Dimensiones:\", df.shape)"
   ]
  },
  {
   "cell_type": "code",
   "execution_count": 120,
   "id": "14998c89",
   "metadata": {},
   "outputs": [
    {
     "name": "stdout",
     "output_type": "stream",
     "text": [
      "            index       Aboard   Fatalities       Ground\n",
      "count  5268.00000  5246.000000  5256.000000  5246.000000\n",
      "mean   2633.50000    27.554518    20.068303     1.608845\n",
      "std    1520.88494    43.076711    33.199952    53.987827\n",
      "min       0.00000     0.000000     0.000000     0.000000\n",
      "25%    1316.75000     5.000000     3.000000     0.000000\n",
      "50%    2633.50000    13.000000     9.000000     0.000000\n",
      "75%    3950.25000    30.000000    23.000000     0.000000\n",
      "max    5267.00000   644.000000   583.000000  2750.000000\n"
     ]
    }
   ],
   "source": [
    "# Estadísticas descriptivas\n",
    "print(df.describe())"
   ]
  },
  {
   "cell_type": "code",
   "execution_count": 121,
   "id": "b59d97ee",
   "metadata": {},
   "outputs": [
    {
     "name": "stdout",
     "output_type": "stream",
     "text": [
      "index           5268\n",
      "Date            4753\n",
      "Time            1005\n",
      "Location        4303\n",
      "Operator        2476\n",
      "Flight #         724\n",
      "Route           3243\n",
      "Type            2446\n",
      "Registration    4905\n",
      "cn/In           3707\n",
      "Aboard           239\n",
      "Fatalities       191\n",
      "Ground            50\n",
      "Summary         4673\n",
      "dtype: int64\n"
     ]
    }
   ],
   "source": [
    "# Conteo de valores por columna\n",
    "print(df.nunique())"
   ]
  },
  {
   "cell_type": "code",
   "execution_count": 122,
   "id": "a37f8c48",
   "metadata": {},
   "outputs": [
    {
     "name": "stdout",
     "output_type": "stream",
     "text": [
      "              Date   Time           Location  Operator Flight #     Route  \\\n",
      "count         5268   3049               5248      5250     1069      3561   \n",
      "unique        4753   1005               4303      2476      724      3243   \n",
      "top     09/11/2001  15:00  Sao Paulo, Brazil  Aeroflot        -  Training   \n",
      "freq             4     32                 15       179       67        81   \n",
      "\n",
      "                Type Registration cn/In                  Summary  \n",
      "count           5241         4933  4040                     4878  \n",
      "unique          2446         4905  3707                     4673  \n",
      "top     Douglas DC-3           49   178  Crashed during takeoff.  \n",
      "freq             334            3     6                       15  \n"
     ]
    }
   ],
   "source": [
    "# Estadísticas también para categóricas\n",
    "print(df.describe(include='object'))"
   ]
  },
  {
   "cell_type": "markdown",
   "id": "d0c43412",
   "metadata": {},
   "source": [
    "# Puntaje"
   ]
  },
  {
   "cell_type": "code",
   "execution_count": 123,
   "id": "46c19b11",
   "metadata": {},
   "outputs": [
    {
     "name": "stdout",
     "output_type": "stream",
     "text": [
      "Completitud: 86.17%\n",
      "Validez: 99.58%\n",
      "Exactitud: 99.68%\n",
      "Consistencia: 99.67%\n",
      "Unicidad: 100.00%\n",
      "Oportunidad: 69.65%\n",
      "\n",
      "=== SCORE GLOBAL DE CALIDAD ===\n",
      "Calidad total de los datos: 92.46%\n"
     ]
    }
   ],
   "source": [
    "total_rows = df.shape[0]\n",
    "total_values = df.shape[0] * df.shape[1]\n",
    "# Completitud\n",
    "non_null_values = df.notnull().sum().sum()\n",
    "completitud_score = (non_null_values / total_values) * 100\n",
    "print(f\"Completitud: {completitud_score:.2f}%\")\n",
    "\n",
    "# Validez\n",
    "valid_fatalities = df[df['Fatalities'] <= df['Aboard']].shape[0]\n",
    "\n",
    "valid_ground = df[df['Ground'] >= 0].shape[0]\n",
    "\n",
    "valid_time = df['Time'].dropna().apply(lambda x: bool(re.match(r'^\\d{1,2}:\\d{2}$', str(x)))).sum()\n",
    "total_time = df['Time'].notna().sum()\n",
    "\n",
    "validez_score = ((valid_fatalities + valid_ground + valid_time) / (total_rows + total_rows + total_time)) * 100\n",
    "print(f\"Validez: {validez_score:.2f}%\")\n",
    "\n",
    "# Exactitud\n",
    "valid_aboard = df[(df['Aboard'] >= 0) & (df['Aboard'] <= 1000)].shape[0]\n",
    "\n",
    "valid_fatalities_count = df[df['Fatalities'] >= 0].shape[0]\n",
    "\n",
    "exactitud_score = ((valid_aboard + valid_fatalities_count) / (2 * total_rows)) * 100\n",
    "print(f\"Exactitud: {exactitud_score:.2f}%\")\n",
    "\n",
    "# Consistencia\n",
    "total_rows = len(df)\n",
    "\n",
    "rule_1 = (df['Fatalities'] <= df['Aboard'])\n",
    "rule_2 = (df['Ground'] >= 0)\n",
    "rule_3 = ((df['Aboard'] == 0) | df['Fatalities'].notna())\n",
    "def valid_time(x):\n",
    "    return pd.isna(x) or bool(re.match(r'^\\d{1,2}:\\d{2}$', str(x)))\n",
    "\n",
    "rule_4 = df['Time'].apply(valid_time)\n",
    "\n",
    "total_rules = rule_1.sum() + rule_2.sum() + rule_3.sum() + rule_4.sum()\n",
    "\n",
    "max_rules = total_rows * 4\n",
    "\n",
    "consistencia_score = (total_rules / max_rules) * 100\n",
    "print(f\"Consistencia: {consistencia_score:.2f}%\")\n",
    "\n",
    "# Unicidad\n",
    "unique_rows = df.drop_duplicates().shape[0]\n",
    "unicidad_score = (unique_rows / total_rows) * 100\n",
    "print(f\"Unicidad: {unicidad_score:.2f}%\")\n",
    "\n",
    "# Oportunidad\n",
    "date = df['Date'] = pd.to_datetime(df['Date'], errors='coerce')\n",
    "date = date.dt.year\n",
    "decade_counts = df.groupby((date// 10) * 10).size()\n",
    "\n",
    "last_decade = decade_counts.iloc[-1]\n",
    "max_decade = decade_counts.max()\n",
    "\n",
    "timeliness_score = (last_decade / max_decade) * 100\n",
    "print(f\"Oportunidad: {timeliness_score:.2f}%\")\n",
    "0\n",
    "global_quality_score = (\n",
    "    completitud_score +\n",
    "    validez_score +\n",
    "    exactitud_score +\n",
    "    consistencia_score +\n",
    "    unicidad_score +\n",
    "    timeliness_score\n",
    ") / 6\n",
    "\n",
    "print(\"\\n=== SCORE GLOBAL DE CALIDAD ===\")\n",
    "print(f\"Calidad total de los datos: {global_quality_score:.2f}%\")"
   ]
  },
  {
   "cell_type": "markdown",
   "id": "25239776",
   "metadata": {},
   "source": [
    "# Exploratory Quality Check"
   ]
  },
  {
   "cell_type": "markdown",
   "id": "3853645d",
   "metadata": {},
   "source": [
    "## Completitud"
   ]
  },
  {
   "cell_type": "code",
   "execution_count": 124,
   "id": "767076c9",
   "metadata": {},
   "outputs": [
    {
     "name": "stdout",
     "output_type": "stream",
     "text": [
      "Total valores nulos por columna\n",
      "index              0\n",
      "Date               0\n",
      "Time            2219\n",
      "Location          20\n",
      "Operator          18\n",
      "Flight #        4199\n",
      "Route           1707\n",
      "Type              27\n",
      "Registration     335\n",
      "cn/In           1228\n",
      "Aboard            22\n",
      "Fatalities        12\n",
      "Ground            22\n",
      "Summary          390\n",
      "dtype: int64\n"
     ]
    }
   ],
   "source": [
    "print(\"Total valores nulos por columna\")\n",
    "print(df.isnull().sum())"
   ]
  },
  {
   "cell_type": "code",
   "execution_count": 125,
   "id": "9853e05d",
   "metadata": {},
   "outputs": [
    {
     "name": "stdout",
     "output_type": "stream",
     "text": [
      "Porcentaje de valores nulos por columna\n",
      "index            0.000000\n",
      "Date             0.000000\n",
      "Time            42.122248\n",
      "Location         0.379651\n",
      "Operator         0.341686\n",
      "Flight #        79.707669\n",
      "Route           32.403189\n",
      "Type             0.512528\n",
      "Registration     6.359150\n",
      "cn/In           23.310554\n",
      "Aboard           0.417616\n",
      "Fatalities       0.227790\n",
      "Ground           0.417616\n",
      "Summary          7.403189\n",
      "dtype: float64\n"
     ]
    }
   ],
   "source": [
    "print(\"Porcentaje de valores nulos por columna\")\n",
    "print(df.isnull().mean() * 100)"
   ]
  },
  {
   "cell_type": "code",
   "execution_count": 126,
   "id": "4f4a13e5",
   "metadata": {},
   "outputs": [
    {
     "name": "stdout",
     "output_type": "stream",
     "text": [
      "index: 5268 valores únicos\n",
      "Date: 4753 valores únicos\n",
      "Time: 1005 valores únicos\n",
      "Location: 4303 valores únicos\n",
      "Operator: 2476 valores únicos\n",
      "Flight #: 724 valores únicos\n",
      "Route: 3243 valores únicos\n",
      "Type: 2446 valores únicos\n",
      "Registration: 4905 valores únicos\n",
      "cn/In: 3707 valores únicos\n",
      "Aboard: 239 valores únicos\n",
      "Fatalities: 191 valores únicos\n",
      "Ground: 50 valores únicos\n",
      "Summary: 4673 valores únicos\n"
     ]
    }
   ],
   "source": [
    "for col in df.columns:\n",
    "    print(f\"{col}: {df[col].nunique()} valores únicos\")"
   ]
  },
  {
   "cell_type": "code",
   "execution_count": 127,
   "id": "ca7ce03b",
   "metadata": {},
   "outputs": [
    {
     "name": "stdout",
     "output_type": "stream",
     "text": [
      "Porcentaje global de valores faltantes: 13.83%\n"
     ]
    }
   ],
   "source": [
    "total_missing = df.isnull().sum().sum()\n",
    "total_cells = df.shape[0] * df.shape[1]\n",
    "print(f\"Porcentaje global de valores faltantes: {round((total_missing / total_cells) * 100, 2)}%\")"
   ]
  },
  {
   "cell_type": "code",
   "execution_count": 128,
   "id": "58a8d984",
   "metadata": {},
   "outputs": [
    {
     "name": "stdout",
     "output_type": "stream",
     "text": [
      "Columnas con más del 50% de valores faltantes:\n",
      "Flight #    79.707669\n",
      "dtype: float64\n"
     ]
    }
   ],
   "source": [
    "threshold = 50  # ejemplo: 50% de valores nulos\n",
    "high_missing = df.isnull().mean() * 100\n",
    "print(\"Columnas con más del 50% de valores faltantes:\")\n",
    "print(high_missing[high_missing > threshold])"
   ]
  },
  {
   "cell_type": "code",
   "execution_count": 129,
   "id": "3fa46120",
   "metadata": {},
   "outputs": [
    {
     "name": "stdout",
     "output_type": "stream",
     "text": [
      "Filas con más de la mitad de los valores faltantes: 6\n"
     ]
    },
    {
     "data": {
      "text/html": [
       "<div>\n",
       "<style scoped>\n",
       "    .dataframe tbody tr th:only-of-type {\n",
       "        vertical-align: middle;\n",
       "    }\n",
       "\n",
       "    .dataframe tbody tr th {\n",
       "        vertical-align: top;\n",
       "    }\n",
       "\n",
       "    .dataframe thead th {\n",
       "        text-align: right;\n",
       "    }\n",
       "</style>\n",
       "<table border=\"1\" class=\"dataframe\">\n",
       "  <thead>\n",
       "    <tr style=\"text-align: right;\">\n",
       "      <th></th>\n",
       "      <th>index</th>\n",
       "      <th>Date</th>\n",
       "      <th>Time</th>\n",
       "      <th>Location</th>\n",
       "      <th>Operator</th>\n",
       "      <th>Flight #</th>\n",
       "      <th>Route</th>\n",
       "      <th>Type</th>\n",
       "      <th>Registration</th>\n",
       "      <th>cn/In</th>\n",
       "      <th>Aboard</th>\n",
       "      <th>Fatalities</th>\n",
       "      <th>Ground</th>\n",
       "      <th>Summary</th>\n",
       "    </tr>\n",
       "  </thead>\n",
       "  <tbody>\n",
       "    <tr>\n",
       "      <th>26</th>\n",
       "      <td>26</td>\n",
       "      <td>1919-10-20</td>\n",
       "      <td>NaN</td>\n",
       "      <td>English Channel</td>\n",
       "      <td>Aircraft Transport and Travel</td>\n",
       "      <td>NaN</td>\n",
       "      <td>NaN</td>\n",
       "      <td>De Havilland DH-4</td>\n",
       "      <td>G-EAHG</td>\n",
       "      <td>NaN</td>\n",
       "      <td>NaN</td>\n",
       "      <td>NaN</td>\n",
       "      <td>NaN</td>\n",
       "      <td>NaN</td>\n",
       "    </tr>\n",
       "    <tr>\n",
       "      <th>138</th>\n",
       "      <td>138</td>\n",
       "      <td>1928-03-03</td>\n",
       "      <td>NaN</td>\n",
       "      <td>Rio de Janeiro, Brazil</td>\n",
       "      <td>NaN</td>\n",
       "      <td>NaN</td>\n",
       "      <td>NaN</td>\n",
       "      <td>NaN</td>\n",
       "      <td>NaN</td>\n",
       "      <td>NaN</td>\n",
       "      <td>10.0</td>\n",
       "      <td>10.0</td>\n",
       "      <td>0.0</td>\n",
       "      <td>NaN</td>\n",
       "    </tr>\n",
       "    <tr>\n",
       "      <th>333</th>\n",
       "      <td>333</td>\n",
       "      <td>1934-08-10</td>\n",
       "      <td>NaN</td>\n",
       "      <td>Ningbo, China</td>\n",
       "      <td>China National Aviation Corporation</td>\n",
       "      <td>NaN</td>\n",
       "      <td>NaN</td>\n",
       "      <td>Sikorsky S-38B</td>\n",
       "      <td>NaN</td>\n",
       "      <td>NaN</td>\n",
       "      <td>NaN</td>\n",
       "      <td>NaN</td>\n",
       "      <td>NaN</td>\n",
       "      <td>NaN</td>\n",
       "    </tr>\n",
       "    <tr>\n",
       "      <th>423</th>\n",
       "      <td>423</td>\n",
       "      <td>1936-12-26</td>\n",
       "      <td>NaN</td>\n",
       "      <td>Nanking, China</td>\n",
       "      <td>China National Aviation Corporation</td>\n",
       "      <td>NaN</td>\n",
       "      <td>NaN</td>\n",
       "      <td>Douglas DC-2</td>\n",
       "      <td>NC14269</td>\n",
       "      <td>NaN</td>\n",
       "      <td>NaN</td>\n",
       "      <td>NaN</td>\n",
       "      <td>NaN</td>\n",
       "      <td>NaN</td>\n",
       "    </tr>\n",
       "    <tr>\n",
       "      <th>573</th>\n",
       "      <td>573</td>\n",
       "      <td>1942-02-14</td>\n",
       "      <td>NaN</td>\n",
       "      <td>NaN</td>\n",
       "      <td>China National Aviation Corporation</td>\n",
       "      <td>NaN</td>\n",
       "      <td>NaN</td>\n",
       "      <td>Douglas DC-2</td>\n",
       "      <td>45</td>\n",
       "      <td>NaN</td>\n",
       "      <td>NaN</td>\n",
       "      <td>NaN</td>\n",
       "      <td>NaN</td>\n",
       "      <td>NaN</td>\n",
       "    </tr>\n",
       "    <tr>\n",
       "      <th>678</th>\n",
       "      <td>678</td>\n",
       "      <td>1944-11-09</td>\n",
       "      <td>NaN</td>\n",
       "      <td>Seljord, Norway</td>\n",
       "      <td>Military - U.S. Army Air Corps</td>\n",
       "      <td>NaN</td>\n",
       "      <td>NaN</td>\n",
       "      <td>NaN</td>\n",
       "      <td>42-52196</td>\n",
       "      <td>NaN</td>\n",
       "      <td>NaN</td>\n",
       "      <td>NaN</td>\n",
       "      <td>NaN</td>\n",
       "      <td>NaN</td>\n",
       "    </tr>\n",
       "  </tbody>\n",
       "</table>\n",
       "</div>"
      ],
      "text/plain": [
       "     index       Date Time                Location  \\\n",
       "26      26 1919-10-20  NaN         English Channel   \n",
       "138    138 1928-03-03  NaN  Rio de Janeiro, Brazil   \n",
       "333    333 1934-08-10  NaN           Ningbo, China   \n",
       "423    423 1936-12-26  NaN          Nanking, China   \n",
       "573    573 1942-02-14  NaN                     NaN   \n",
       "678    678 1944-11-09  NaN         Seljord, Norway   \n",
       "\n",
       "                                Operator Flight # Route               Type  \\\n",
       "26         Aircraft Transport and Travel      NaN   NaN  De Havilland DH-4   \n",
       "138                                  NaN      NaN   NaN                NaN   \n",
       "333  China National Aviation Corporation      NaN   NaN     Sikorsky S-38B   \n",
       "423  China National Aviation Corporation      NaN   NaN       Douglas DC-2   \n",
       "573  China National Aviation Corporation      NaN   NaN       Douglas DC-2   \n",
       "678       Military - U.S. Army Air Corps      NaN   NaN                NaN   \n",
       "\n",
       "    Registration cn/In  Aboard  Fatalities  Ground Summary  \n",
       "26        G-EAHG   NaN     NaN         NaN     NaN     NaN  \n",
       "138          NaN   NaN    10.0        10.0     0.0     NaN  \n",
       "333          NaN   NaN     NaN         NaN     NaN     NaN  \n",
       "423      NC14269   NaN     NaN         NaN     NaN     NaN  \n",
       "573           45   NaN     NaN         NaN     NaN     NaN  \n",
       "678     42-52196   NaN     NaN         NaN     NaN     NaN  "
      ]
     },
     "execution_count": 129,
     "metadata": {},
     "output_type": "execute_result"
    }
   ],
   "source": [
    "rows_many_missing = df[df.isnull().sum(axis=1) > (df.shape[1] / 2)]\n",
    "print(f\"Filas con más de la mitad de los valores faltantes: {rows_many_missing.shape[0]}\")\n",
    "rows_many_missing"
   ]
  },
  {
   "cell_type": "markdown",
   "id": "9c6621ea",
   "metadata": {},
   "source": [
    "## Precisión"
   ]
  },
  {
   "cell_type": "code",
   "execution_count": 130,
   "id": "d9195a5c",
   "metadata": {},
   "outputs": [
    {
     "name": "stdout",
     "output_type": "stream",
     "text": [
      "number of invalid dates: 0\n",
      "\n",
      "Valid Dates Range:\n",
      "Minimun Date: 1908-09-17 00:00:00\n",
      "Maximiun Date: 2009-06-08 00:00:00\n"
     ]
    }
   ],
   "source": [
    "#  'Date' to datetime, forcing error to NaT\n",
    "df['Date'] = pd.to_datetime(df['Date'], errors='coerce')\n",
    "\n",
    "#count invalid dates\n",
    "invalid_dates_count = df['Date'].isna().sum()\n",
    "\n",
    "print(f\"number of invalid dates: {invalid_dates_count}\")\n",
    "\n",
    "print(f\"\\nValid Dates Range:\")\n",
    "print(f\"Minimun Date: {df['Date'].min()}\")\n",
    "print(f\"Maximiun Date: {df['Date'].max()}\")"
   ]
  },
  {
   "cell_type": "code",
   "execution_count": 131,
   "id": "d4585173",
   "metadata": {},
   "outputs": [
    {
     "name": "stdout",
     "output_type": "stream",
     "text": [
      "Número de fechas menores a 1908: 0\n",
      "Número de fechas mayores a 2025: 0\n"
     ]
    }
   ],
   "source": [
    "# Verificar fechas menores a 1908 o mayores a 2025\n",
    "fecha_minima = pd.to_datetime('1908-01-01')\n",
    "fechas_menores_1908 = df[df['Date'] < fecha_minima]\n",
    "print(f\"Número de fechas menores a 1908: {len(fechas_menores_1908)}\")\n",
    "fecha_maxima = pd.to_datetime('2025-09-17')\n",
    "fechas_mayores_2025 = df[df['Date'] > fecha_maxima] \n",
    "print(f\"Número de fechas mayores a 2025: {len(fechas_mayores_2025)}\")\n"
   ]
  },
  {
   "cell_type": "code",
   "execution_count": 132,
   "id": "94b78657",
   "metadata": {},
   "outputs": [
    {
     "name": "stdout",
     "output_type": "stream",
     "text": [
      "Valores faltantes: 2219 (42.1%)\n",
      "Format not HH:MM: 19\n"
     ]
    }
   ],
   "source": [
    "#Time\n",
    "\n",
    "print(f\"Valores faltantes: {df['Time'].isna().sum()} ({df['Time'].isna().mean()*100:.1f}%)\")\n",
    "\n",
    "# Verify format HH:MM with regular expressions\n",
    "weird_format = df['Time'].dropna()[~df['Time'].dropna().str.match(r'^\\d{2}:\\d{2}$')]\n",
    "print(f\"Format not HH:MM: {len(weird_format)}\")\n"
   ]
  },
  {
   "cell_type": "code",
   "execution_count": 133,
   "id": "86ba004a",
   "metadata": {},
   "outputs": [
    {
     "name": "stdout",
     "output_type": "stream",
     "text": [
      "Aboard - Máximo valor encontrado: 644.0\n",
      "Fatalities - Máximo valor encontrado: 583.0\n",
      "Ground - Máximo valor encontrado: 2750.0\n"
     ]
    }
   ],
   "source": [
    "numeric_cols = ['Aboard', 'Fatalities', 'Ground']\n",
    "for col in numeric_cols:\n",
    "    invalid_negatives = df[df[col] < 0]\n",
    "    if not invalid_negatives.empty:\n",
    "        print(f\"\\n{col} tiene valores negativos: {len(invalid_negatives)}\")\n",
    "    \n",
    "    print(f\"{col} - Máximo valor encontrado: {df[col].max()}\")"
   ]
  },
  {
   "cell_type": "code",
   "execution_count": 134,
   "id": "8055cfd5",
   "metadata": {},
   "outputs": [
    {
     "name": "stdout",
     "output_type": "stream",
     "text": [
      "Registros donde Fatalities > Aboard: 0\n"
     ]
    }
   ],
   "source": [
    "invalid_fatalities = df[df['Fatalities'] > df['Aboard']]\n",
    "print(f\"Registros donde Fatalities > Aboard: {len(invalid_fatalities)}\")"
   ]
  },
  {
   "cell_type": "code",
   "execution_count": 135,
   "id": "4c19cce3",
   "metadata": {},
   "outputs": [
    {
     "name": "stdout",
     "output_type": "stream",
     "text": [
      "Registros con Ground negativo: 0\n"
     ]
    }
   ],
   "source": [
    "ground_invalid = df[df['Ground'] < 0]\n",
    "print(f\"Registros con Ground negativo: {len(ground_invalid)}\")"
   ]
  },
  {
   "cell_type": "code",
   "execution_count": 136,
   "id": "82b90cac",
   "metadata": {},
   "outputs": [
    {
     "name": "stdout",
     "output_type": "stream",
     "text": [
      "Registros con Ground extremadamente alto: 34\n"
     ]
    }
   ],
   "source": [
    "high_ground = df[df['Ground'] > df['Aboard'] * 5]  # Umbral ejemplo\n",
    "print(f\"Registros con Ground extremadamente alto: {len(high_ground)}\")"
   ]
  },
  {
   "cell_type": "markdown",
   "id": "a455cb31",
   "metadata": {},
   "source": [
    "## Consistencia"
   ]
  },
  {
   "cell_type": "code",
   "execution_count": 137,
   "id": "efab2d82",
   "metadata": {},
   "outputs": [
    {
     "name": "stdout",
     "output_type": "stream",
     "text": [
      "Registros con Fatalities > Aboard: 0\n",
      "Registros con Aboard = 0 y Fatalities > 0: 0\n",
      "Registros con Ground negativo: 0\n"
     ]
    }
   ],
   "source": [
    "# 1. Fatalities no puede ser mayor a Aboard\n",
    "inconsist_fatalities = df[df['Fatalities'] > df['Aboard']]\n",
    "\n",
    "# 2. Aboard = 0 pero Fatalities > 0\n",
    "inconsist_aboard_zero = df[(df['Aboard'] == 0) & (df['Fatalities'] > 0)]\n",
    "\n",
    "# 3. Ground no puede ser negativo\n",
    "inconsist_ground = df[df['Ground'] < 0]\n",
    "\n",
    "# 4. Mostrar cantidades\n",
    "print(\"Registros con Fatalities > Aboard:\", inconsist_fatalities.shape[0])\n",
    "print(\"Registros con Aboard = 0 y Fatalities > 0:\", inconsist_aboard_zero.shape[0])\n",
    "print(\"Registros con Ground negativo:\", inconsist_ground.shape[0])"
   ]
  },
  {
   "cell_type": "code",
   "execution_count": 138,
   "id": "6d1d932b",
   "metadata": {},
   "outputs": [
    {
     "name": "stdout",
     "output_type": "stream",
     "text": [
      "\n",
      "=== VARIATIONS IN LOCATION ===\n",
      "Values with less than 5 occurrences:\n",
      "Location\n",
      "Cheyenne, Wyoming                    5\n",
      "Near Mexico City, Mexico             5\n",
      "Medellin, Colombia                   5\n",
      "Quito, Ecuador                       5\n",
      "Seattle, Washington                  5\n",
      "                                    ..\n",
      "Near Charana, Bolivia                1\n",
      "Monte Matto, Italy                   1\n",
      "Misaki Mountain, Japan               1\n",
      "Angelholm, Sweden                    1\n",
      "State of Arunachal Pradesh, India    1\n",
      "Name: count, Length: 4264, dtype: int64\n",
      "\n",
      "=== VARIATIONS IN OPERATOR ===\n",
      "Values with less than 5 occurrences:\n",
      "Operator\n",
      "Military - Indonesian Air Force        5\n",
      "Aeronaves de Mexico                    5\n",
      "Syndicato Condor                       5\n",
      "LANSA                                  5\n",
      "Military - Nicaraguan Air Force        5\n",
      "                                      ..\n",
      "Military - Argentine Navy              1\n",
      "Richland Flying Service - Air Taxii    1\n",
      "Harbor Airlines - Air Taxi             1\n",
      "Aerovias Venezolanas SA (Venezuela)    1\n",
      "Strait Air                             1\n",
      "Name: count, Length: 2345, dtype: int64\n",
      "\n",
      "=== VARIATIONS IN TYPE ===\n",
      "Values with less than 5 occurrences:\n",
      "Type\n",
      "Convair CV-240              5\n",
      "de Havilland DH-86          5\n",
      "Beech C-45H                 5\n",
      "Douglas C-47B-DK            5\n",
      "Lockheed C-130B Hercules    5\n",
      "                           ..\n",
      "Boeing 727-21               1\n",
      "NAMC-YS-11-111              1\n",
      "Lockheed EC-121H            1\n",
      "Cessna 205A                 1\n",
      "Airbus A330-203             1\n",
      "Name: count, Length: 2316, dtype: int64\n",
      "\n",
      "=== VARIATIONS IN ROUTE ===\n",
      "Values with less than 5 occurrences:\n",
      "Route\n",
      "Sao Paulo - Rio de Janeiro    5\n",
      "Sao Paulo - Porto Alegre      4\n",
      "Saigon - Paris                4\n",
      "Bogota - Barranquilla         4\n",
      "Villavicencio - Mitu          4\n",
      "                             ..\n",
      "Manila - Lapu Lapu            1\n",
      "Saint Denis - Paris           1\n",
      "Cork - London                 1\n",
      "Peoria, IL - St. Louis, MO    1\n",
      "Mechuka for Jorhat            1\n",
      "Name: count, Length: 3239, dtype: int64\n",
      "\n",
      "=== VARIATIONS IN REGISTRATION ===\n",
      "Values with less than 5 occurrences:\n",
      "Registration\n",
      "49            3\n",
      "012           2\n",
      "XA-GOT        2\n",
      "N864JA        2\n",
      "N67941        2\n",
      "             ..\n",
      "PI-C489       1\n",
      "N842D         1\n",
      "N724US        1\n",
      "CCCP-11193    1\n",
      "C-FJJR        1\n",
      "Name: count, Length: 4905, dtype: int64\n",
      "\n",
      "=== VARIATIONS IN CN/IN ===\n",
      "Values with less than 5 occurrences:\n",
      "cn/In\n",
      "229         5\n",
      "19          5\n",
      "213         5\n",
      "125         5\n",
      "1           4\n",
      "           ..\n",
      "1114        1\n",
      "19410       1\n",
      "42929       1\n",
      "45794/52    1\n",
      "424         1\n",
      "Name: count, Length: 3706, dtype: int64\n",
      "=== ROUTE COLUMN ANALYSIS ===\n",
      "Unique values in Route (top 15):\n",
      "Route\n",
      "Training                      81\n",
      "Sightseeing                   29\n",
      "Test flight                   17\n",
      "Test                           6\n",
      "Sao Paulo - Rio de Janeiro     5\n",
      "Sao Paulo - Porto Alegre       4\n",
      "Saigon - Paris                 4\n",
      "Bogota - Barranquilla          4\n",
      "Villavicencio - Mitu           4\n",
      "Burbank - Oakland              3\n",
      "Hue - Da Nang                  3\n",
      "Villavicencio - Bogota         3\n",
      "Barranquilla - Bogota          3\n",
      "Rome - Cairo                   3\n",
      "Istanbul - Ankara              3\n",
      "Name: count, dtype: int64\n",
      "=== TYPE COLUMN ANALYSIS ===\n",
      "Unique values in Type (top 15):\n",
      "Type\n",
      "Douglas DC-3                                334\n",
      "de Havilland Canada DHC-6 Twin Otter 300     81\n",
      "Douglas C-47A                                74\n",
      "Douglas C-47                                 62\n",
      "Douglas DC-4                                 40\n",
      "Yakovlev YAK-40                              37\n",
      "Antonov AN-26                                36\n",
      "Junkers JU-52/3m                             32\n",
      "Douglas C-47B                                29\n",
      "De Havilland DH-4                            28\n",
      "Douglas DC-6B                                27\n",
      "Breguet 14                                   23\n",
      "Curtiss C-46A                                21\n",
      "Douglas DC-6                                 20\n",
      "Douglas C-47-DL                              20\n",
      "Name: count, dtype: int64\n"
     ]
    }
   ],
   "source": [
    "category_formats = ['Location', 'Operator', 'Type', 'Route', 'Registration', 'cn/In']\n",
    "\n",
    "# 2. Function to find variations\n",
    "def find_variations(column_name, threshold=10):\n",
    "    print(f\"\\n=== VARIATIONS IN {column_name.upper()} ===\")\n",
    "    count = df[column_name].value_counts()\n",
    "    \n",
    "    # Show values with few occurrences (potential variations)\n",
    "    variations = count[count <= threshold]\n",
    "    print(f\"Values with less than {threshold} occurrences:\")\n",
    "    print(variations)\n",
    "    \n",
    "    return variations\n",
    "\n",
    "# Review variations in all columns\n",
    "for column in category_formats:\n",
    "    find_variations(column, threshold=5)\n",
    "\n",
    "print(\"=== ROUTE COLUMN ANALYSIS ===\")\n",
    "print(\"Unique values in Route (top 15):\")\n",
    "print(df['Route'].value_counts().head(15))\n",
    "\n",
    "print(\"=== TYPE COLUMN ANALYSIS ===\") \n",
    "print(\"Unique values in Type (top 15):\")\n",
    "print(df['Type'].value_counts().head(15))"
   ]
  },
  {
   "cell_type": "code",
   "execution_count": 139,
   "id": "e9d77573",
   "metadata": {},
   "outputs": [
    {
     "name": "stdout",
     "output_type": "stream",
     "text": [
      "Ubicaciones con caracteres inválidos: 172\n"
     ]
    }
   ],
   "source": [
    "df_temp = df.copy()\n",
    "\n",
    "for col in category_formats:\n",
    "    df_temp[col] = df_temp[col].astype(str).str.lower().str.strip()\n",
    "\n",
    "weird_locations = df_temp[df_temp['Location'].notna() & ~df_temp['Location'].str.match(r\"^[a-zà-ÿ\\s\\-,]+$\")]\n",
    "print(f\"Ubicaciones con caracteres inválidos: {len(weird_locations)}\")"
   ]
  },
  {
   "cell_type": "code",
   "execution_count": 140,
   "id": "9254c829",
   "metadata": {},
   "outputs": [
    {
     "name": "stdout",
     "output_type": "stream",
     "text": [
      "Operadores con caracteres inválidos: 345\n"
     ]
    }
   ],
   "source": [
    "weird_operators = df_temp[df_temp['Operator'].notna() & ~df_temp['Operator'].str.match(r\"^[a-z0-9\\s\\-\\&\\.,]+$\")]\n",
    "print(f\"Operadores con caracteres inválidos: {len(weird_operators)}\")"
   ]
  },
  {
   "cell_type": "code",
   "execution_count": 141,
   "id": "ea4cb95c",
   "metadata": {},
   "outputs": [
    {
     "name": "stdout",
     "output_type": "stream",
     "text": [
      "Registration con posibles duplicados: 390\n",
      "cn/In con posibles duplicados: 1816\n"
     ]
    }
   ],
   "source": [
    "for col in ['Registration', 'cn/In']:\n",
    "    duplicated_ids = df_temp[df_temp.duplicated(subset=[col], keep=False)]\n",
    "    print(f\"{col} con posibles duplicados: {len(duplicated_ids)}\")"
   ]
  },
  {
   "cell_type": "code",
   "execution_count": 142,
   "id": "19e11248",
   "metadata": {},
   "outputs": [
    {
     "name": "stdout",
     "output_type": "stream",
     "text": [
      "Registros con formato inválido en 'Registration': 4237\n"
     ]
    }
   ],
   "source": [
    "invalid_registration = df_temp[df_temp['Registration'].notna() & ~df_temp['Registration'].str.match(r\"^[a-z]{0,2}-?[0-9]{3,6}$\")]\n",
    "print(f\"Registros con formato inválido en 'Registration': {len(invalid_registration)}\")"
   ]
  },
  {
   "cell_type": "markdown",
   "id": "0c178851",
   "metadata": {},
   "source": [
    "## Unicidad"
   ]
  },
  {
   "cell_type": "code",
   "execution_count": 143,
   "id": "81d9c658",
   "metadata": {},
   "outputs": [
    {
     "name": "stdout",
     "output_type": "stream",
     "text": [
      "Duplicados EXACTOS en todo el registro: 0\n",
      "Duplicados por clave ['Date', 'Location', 'Operator', 'Type']: 0\n"
     ]
    }
   ],
   "source": [
    "# --- Revisar duplicados exactos en todo el dataset ---\n",
    "n_exact_dups = df.duplicated().sum()\n",
    "print(f\"Duplicados EXACTOS en todo el registro: {n_exact_dups}\")\n",
    "\n",
    "# --- Revisar duplicados por clave lógica (Date + Location + Operator + Type) ---\n",
    "key_cols = ['Date', 'Location', 'Operator', 'Type']\n",
    "is_dup_key = df.duplicated(subset=key_cols, keep=False)\n",
    "\n",
    "n_dup_key = is_dup_key.sum()\n",
    "print(f\"Duplicados por clave {key_cols}: {n_dup_key}\")\n"
   ]
  },
  {
   "cell_type": "markdown",
   "id": "da3c2955",
   "metadata": {},
   "source": [
    "## Validez"
   ]
  },
  {
   "cell_type": "code",
   "execution_count": 144,
   "id": "275c79ac",
   "metadata": {},
   "outputs": [
    {
     "name": "stdout",
     "output_type": "stream",
     "text": [
      "=== VALIDITY CHECKS ===\n",
      "Fechas inválidas convertidas a NaT: 0\n",
      "Fechas inválidas (NaT o fuera de rango): 0\n",
      "Tiempos con formato inválido: 19\n"
     ]
    }
   ],
   "source": [
    "print(\"=== VALIDITY CHECKS ===\")\n",
    "invalid_dates_count = df['Date'].isna().sum()\n",
    "print(f\"Fechas inválidas convertidas a NaT: {invalid_dates_count}\")\n",
    "# --- 1. Date validity ---\n",
    "# Fechas fuera del rango permitido\n",
    "fecha_minima = pd.to_datetime('1908-01-01')\n",
    "fecha_maxima = pd.to_datetime('2025-09-17')\n",
    "invalid_dates = df[(df['Date'] < fecha_minima) | (df['Date'] > fecha_maxima) | (df['Date'].isna())]\n",
    "print(f\"Fechas inválidas (NaT o fuera de rango): {len(invalid_dates)}\")\n",
    "\n",
    "# --- 2. Time validity ---\n",
    "# Validar formato HH:MM (24 horas)\n",
    "invalid_time_format = df['Time'].dropna()[~df['Time'].dropna().str.match(r'^[0-2]\\d:[0-5]\\d$')]\n",
    "print(f\"Tiempos con formato inválido: {len(invalid_time_format)}\")\n"
   ]
  },
  {
   "cell_type": "markdown",
   "id": "0b2fb667",
   "metadata": {},
   "source": [
    "## Timeliness"
   ]
  },
  {
   "cell_type": "code",
   "execution_count": 145,
   "id": "ab88329e",
   "metadata": {},
   "outputs": [
    {
     "name": "stdout",
     "output_type": "stream",
     "text": [
      "\n",
      "=== TIMELINESS CHECKS ===\n",
      "Rango de fechas en el dataset: 1908-09-17 00:00:00 a 2009-06-08 00:00:00\n",
      "Registros en el último año (2024-09-17 a 2025-09-17): 0\n",
      "\n",
      "Registros por año:\n",
      "Date\n",
      "1908     1\n",
      "1912     1\n",
      "1913     3\n",
      "1915     2\n",
      "1916     5\n",
      "        ..\n",
      "2005    51\n",
      "2006    49\n",
      "2007    54\n",
      "2008    62\n",
      "2009    24\n",
      "Name: count, Length: 98, dtype: int64\n",
      "\n",
      "Años con menos de 5 registros:\n",
      "Date\n",
      "1908    1\n",
      "1912    1\n",
      "1913    3\n",
      "1915    2\n",
      "1918    4\n",
      "Name: count, dtype: int64\n"
     ]
    }
   ],
   "source": [
    "print(\"\\n=== TIMELINESS CHECKS ===\")\n",
    "\n",
    "# 1. Fechas mínima y máxima en el dataset\n",
    "min_date = df['Date'].min()\n",
    "max_date = df['Date'].max()\n",
    "print(f\"Rango de fechas en el dataset: {min_date} a {max_date}\")\n",
    "\n",
    "# 2. Revisar cuántos registros están en el último año\n",
    "import datetime\n",
    "today = pd.to_datetime('today')\n",
    "\n",
    "one_year_ago = today - pd.DateOffset(years=1)\n",
    "recent_records = df[df['Date'] >= one_year_ago]\n",
    "\n",
    "print(f\"Registros en el último año ({one_year_ago.date()} a {today.date()}): {len(recent_records)}\")\n",
    "\n",
    "# 3. Conteo de registros por año para detectar posibles años sin datos\n",
    "yearly_counts = df['Date'].dt.year.value_counts().sort_index()\n",
    "\n",
    "print(\"\\nRegistros por año:\")\n",
    "print(yearly_counts)\n",
    "\n",
    "# Detectar años con pocos registros (posible problema de carga)\n",
    "threshold = 5\n",
    "low_activity_years = yearly_counts[yearly_counts < threshold]\n",
    "\n",
    "print(\"\\nAños con menos de 5 registros:\")\n",
    "print(low_activity_years)"
   ]
  },
  {
   "cell_type": "markdown",
   "id": "1bf9d25c",
   "metadata": {},
   "source": [
    "# Cleaning"
   ]
  },
  {
   "cell_type": "code",
   "execution_count": 146,
   "id": "14c5f9fb",
   "metadata": {},
   "outputs": [
    {
     "name": "stdout",
     "output_type": "stream",
     "text": [
      "Columna 'Flight #' eliminada.\n"
     ]
    }
   ],
   "source": [
    "df.drop(columns=['Flight #'], inplace=True)\n",
    "print(\"Columna 'Flight #' eliminada.\")"
   ]
  },
  {
   "cell_type": "code",
   "execution_count": 147,
   "id": "3f0b30b7",
   "metadata": {},
   "outputs": [],
   "source": [
    "def clean_time(time_str):\n",
    "    if pd.isna(time_str) or time_str.strip() == '':\n",
    "        return 'Not Specified'\n",
    "    \n",
    "    # Validar formato HH:MM\n",
    "    if re.match(r'^\\d{2}:\\d{2}$', time_str.strip()):\n",
    "        return time_str.strip()\n",
    "    \n",
    "    # Si tiene formato como 7:30 -> 07:30\n",
    "    if re.match(r'^\\d{1}:\\d{2}$', time_str.strip()):\n",
    "        return '0' + time_str.strip()\n",
    "    \n",
    "    return 'Not Specified'\n",
    "\n",
    "df['Time'] = df['Time'].apply(clean_time)"
   ]
  },
  {
   "cell_type": "code",
   "execution_count": 148,
   "id": "f57c07f1",
   "metadata": {},
   "outputs": [],
   "source": [
    "def normalize_text(text):\n",
    "    if pd.isna(text) or str(text).strip() == '':\n",
    "        return 'Not Specified'\n",
    "    return str(text).strip().lower()\n",
    "\n",
    "category_columns = ['Location', 'Operator', 'Route', 'Type', 'Registration', 'cn/In', 'Summary']\n",
    "for col in category_columns:\n",
    "    df[col] = df[col].apply(normalize_text)\n",
    "\n",
    "# delete the spaces at the beginning and end\n",
    "df['Type'] = df['Type'].str.strip()\n",
    "df['Location'] = df['Location'].str.strip().str.title()\n",
    "df['Operator'] = df['Operator'].str.strip().str.title()\n",
    "df['Type'] = df['Type'].str.strip().str.lower()"
   ]
  },
  {
   "cell_type": "code",
   "execution_count": 149,
   "id": "7d45ab85",
   "metadata": {},
   "outputs": [],
   "source": [
    "def clean_operator(operator):\n",
    "    if operator == 'Not Specified':\n",
    "        return operator\n",
    "\n",
    "    # Mapeo básico de nombres frecuentes\n",
    "    operator_mapping = {\n",
    "        r'aeroflot': 'Aeroflot',\n",
    "        r'united airlines': 'United Airlines',\n",
    "        r'military - u.s. army': 'Military - USA',\n",
    "        r'military - u.s. air force': 'Military - USAF',\n",
    "        r'air france': 'Air France',\n",
    "        r'american airlines': 'American Airlines',\n",
    "        r'pan am': 'Pan Am'\n",
    "    }\n",
    "    \n",
    "    for pattern, replacement in operator_mapping.items():\n",
    "        operator = re.sub(pattern, replacement, operator, flags=re.IGNORECASE)\n",
    "    \n",
    "    return operator.title()\n",
    "\n",
    "df['Operator'] = df['Operator'].apply(clean_operator)"
   ]
  },
  {
   "cell_type": "code",
   "execution_count": 150,
   "id": "a2a9d6c9",
   "metadata": {},
   "outputs": [],
   "source": [
    "# Normalizamos nombres de columnas quitando espacios extra\n",
    "df.columns = [c.strip() for c in df.columns]\n",
    "# index,Date,Time,Location,Operator,Flight #,Route,Type,Registration,cn/In,Aboard,Fatalities,Ground,Summary\n",
    "df = df.rename(columns={'index':'Index','Flight #':'FlightNumber'})"
   ]
  },
  {
   "cell_type": "code",
   "execution_count": 151,
   "id": "830cf0c8",
   "metadata": {},
   "outputs": [
    {
     "name": "stdout",
     "output_type": "stream",
     "text": [
      "Location cleaning completed!\n"
     ]
    }
   ],
   "source": [
    "def clean_location(location):\n",
    "    \"\"\"\n",
    "    Automated cleaning for worldwide locations\n",
    "    Maintains original format but removes common inconsistencies\n",
    "    \"\"\"\n",
    "    if pd.isna(location):\n",
    "        return location\n",
    "    \n",
    "    location = str(location)\n",
    "    \n",
    "    # Remove common prefixes and unnecessary words\n",
    "    remove_patterns = [\n",
    "        r'^near\\s+', r'^approx\\s+', r'^around\\s+', r'^close to\\s+',\n",
    "        r'\\s+\\(.*?\\)',  # Remove anything in parentheses\n",
    "        r'\\s+\\[.*?\\]',  # Remove anything in brackets\n",
    "        r'\\s+off\\s+',   # Remove 'off' \n",
    "        r'\\s+area$', r'\\s+region$',  # Remove area/region suffixes\n",
    "    ]\n",
    "    \n",
    "    for pattern in remove_patterns:\n",
    "        location = re.sub(pattern, '', location, flags=re.IGNORECASE)\n",
    "    \n",
    "    # Standardize country names (minimal essential mapping)\n",
    "    country_mapping = {\n",
    "        r'USA|U\\.S\\.A\\.|United States|U\\.S\\.': 'USA',\n",
    "        r'UK|U\\.K\\.|United Kingdom|England|Britain': 'UK',\n",
    "        r'Russia|USSR|Soviet Union': 'Russia',\n",
    "        r'\\.': '',  # Remove dots from abbreviations\n",
    "    }\n",
    "    \n",
    "    for pattern, replacement in country_mapping.items():\n",
    "        location = re.sub(pattern, replacement, location, flags=re.IGNORECASE)\n",
    "    \n",
    "    # Clean up formatting\n",
    "    location = location.strip()\n",
    "    location = re.sub(r'\\s+', ' ', location)  # Remove extra spaces\n",
    "    location = location.title()  # Title case\n",
    "    \n",
    "    return location\n",
    "\n",
    "# Apply automated cleaning\n",
    "df['Location'] = df['Location'].apply(clean_location)\n",
    "\n",
    "print(\"Location cleaning completed!\")"
   ]
  },
  {
   "cell_type": "code",
   "execution_count": 152,
   "id": "3e1caf2e",
   "metadata": {},
   "outputs": [],
   "source": [
    "def categorize_route(route):\n",
    "    \"\"\"\n",
    "    Minimal route categorization - just the essentials\n",
    "    \"\"\"\n",
    "    if pd.isna(route) or (route_str := str(route).strip()) == '':\n",
    "        return 'Not Specified'\n",
    "    \n",
    "    # Only handle the most common cases\n",
    "    if route_str.lower() == 'not specified':\n",
    "        return 'Not Specified'\n",
    "    elif route_str.lower() == 'test':\n",
    "        return 'Test Flight'\n",
    "    elif route_str.lower() == 'test flight':\n",
    "        return 'Test Flight'\n",
    "    elif route_str.lower() in ['training', 'sightseeing', 'demonstration']:\n",
    "        return route_str.title()\n",
    "    \n",
    "    # For routes, just do basic cleaning\n",
    "    if '-' in route_str or ' to ' in route_str.lower():\n",
    "        return re.sub(r'\\s+to\\s+', ' - ', route_str, flags=re.IGNORECASE).title()\n",
    "    \n",
    "    return route_str.title()\n",
    "\n",
    "\n",
    "df['Route'] = df['Route'].apply(categorize_route)"
   ]
  },
  {
   "cell_type": "code",
   "execution_count": 153,
   "id": "d449a720",
   "metadata": {},
   "outputs": [
    {
     "name": "stdout",
     "output_type": "stream",
     "text": [
      "Manufacturer standardization completed!\n",
      "\n",
      "Top 15 standardized types:\n",
      "Type\n",
      "Douglas dc-3                                334\n",
      "De Havilland canada dhc-6 twin otter 300     81\n",
      "Douglas c-47a                                74\n",
      "Douglas c-47                                 62\n",
      "Douglas dc-4                                 40\n",
      "Antonov an-26                                38\n",
      "Yakovlev yak-40                              38\n",
      "Junkers ju-52/3m                             37\n",
      "Douglas c-47b                                29\n",
      "De Havilland dh-4                            28\n",
      "Douglas dc-6b                                27\n",
      "Not Specified                                27\n",
      "Antonov an-12                                24\n",
      "Breguet 14                                   23\n",
      "Curtiss c-46a                                21\n",
      "Name: count, dtype: int64\n"
     ]
    }
   ],
   "source": [
    "def standardize_manufacturers(aircraft_type):\n",
    "    \"\"\"\n",
    "    Standardize manufacturer names to consistent capitalization\n",
    "    \"\"\"\n",
    "    if pd.isna(aircraft_type) or (type_str := str(aircraft_type).strip()) == '':\n",
    "        return 'Not Specified'\n",
    "    \n",
    "    if type_str.lower() == 'not specified':\n",
    "        return 'Not Specified'\n",
    "    \n",
    "    # Estandarizar nombres de fabricantes (similar al 'to' de rutas)\n",
    "    manufacturer_standardization = {\n",
    "        r'\\bde havilland\\b': 'De Havilland',\n",
    "        r'\\bdouglas\\b': 'Douglas',\n",
    "        r'\\bboeing\\b': 'Boeing', \n",
    "        r'\\bairbus\\b': 'Airbus',\n",
    "        r'\\bantonov\\b': 'Antonov',\n",
    "        r'\\byakovlev\\b': 'Yakovlev',\n",
    "        r'\\bjunkers\\b': 'Junkers',\n",
    "        r'\\bcurtiss\\b': 'Curtiss',\n",
    "        r'\\bbreguet\\b': 'Breguet'\n",
    "    }\n",
    "    \n",
    "    # Aplicar estandarización de fabricantes\n",
    "    for pattern, replacement in manufacturer_standardization.items():\n",
    "        type_str = re.sub(pattern, replacement, type_str, flags=re.IGNORECASE)\n",
    "    \n",
    "    return type_str\n",
    "\n",
    "# Apply manufacturer standardization\n",
    "df['Type'] = df['Type'].apply(standardize_manufacturers)\n",
    "\n",
    "# Verify results\n",
    "print(\"Manufacturer standardization completed!\")\n",
    "print(\"\\nTop 15 standardized types:\")\n",
    "print(df['Type'].value_counts().head(15))"
   ]
  },
  {
   "cell_type": "code",
   "execution_count": 154,
   "id": "cc3ea1be",
   "metadata": {},
   "outputs": [
    {
     "name": "stdout",
     "output_type": "stream",
     "text": [
      "\n",
      "Registros con fecha en el futuro: 0\n",
      "\n",
      "Cantidad de registros por década:\n",
      "Date\n",
      "1900      1\n",
      "1910     27\n",
      "1920    178\n",
      "1930    323\n",
      "1940    510\n",
      "1950    596\n",
      "1960    721\n",
      "1970    837\n",
      "1980    717\n",
      "1990    775\n",
      "2000    583\n",
      "Name: count, dtype: int64\n"
     ]
    }
   ],
   "source": [
    "from datetime import datetime\n",
    "\n",
    "# Convertir a datetime\n",
    "df['Date'] = pd.to_datetime(df['Date'], errors='coerce')\n",
    "\n",
    "# Fechas futuras\n",
    "today = datetime.today()\n",
    "futuras = df[df['Date'] > today]\n",
    "print(\"\\nRegistros con fecha en el futuro:\", len(futuras))\n",
    "\n",
    "\n",
    "print(\"\\nCantidad de registros por década:\")\n",
    "print(((df['Date'].dt.year // 10) * 10).value_counts().sort_index())"
   ]
  },
  {
   "cell_type": "code",
   "execution_count": 155,
   "id": "e808483e",
   "metadata": {},
   "outputs": [],
   "source": [
    "# Calcular la mediana de Aboard por tipo de avión\n",
    "aboard_median_by_type = df.groupby('Type')['Aboard'].median()\n",
    "\n",
    "# Llenar usando la mediana de su grupo\n",
    "df['Aboard'] = df.apply(\n",
    "    lambda row: aboard_median_by_type[row['Type']] if pd.isna(row['Aboard']) else row['Aboard'],\n",
    "    axis=1\n",
    ")\n",
    "aboard_median_general = df['Aboard'].median()\n",
    "\n",
    "df['Aboard'] = df['Aboard'].fillna(aboard_median_general)"
   ]
  },
  {
   "cell_type": "code",
   "execution_count": 156,
   "id": "4b947878",
   "metadata": {},
   "outputs": [],
   "source": [
    "df.loc[df['Fatalities'] > df['Aboard'], 'Fatalities'] = df['Aboard']\n",
    "df.loc[(df['Aboard'] == 0) & (df['Fatalities'] > 0), 'Fatalities'] = 0\n",
    "df.loc[df['Ground'] < 0, 'Ground'] = 0"
   ]
  },
  {
   "cell_type": "code",
   "execution_count": 157,
   "id": "569612da",
   "metadata": {},
   "outputs": [],
   "source": [
    "df['Registration'] = df['Registration'].fillna('Not Specified').str.upper().str.strip()\n",
    "df['cn/In'] = df['cn/In'].fillna('Not Specified').str.upper().str.strip()"
   ]
  },
  {
   "cell_type": "code",
   "execution_count": 158,
   "id": "de5ef2b4",
   "metadata": {},
   "outputs": [
    {
     "name": "stdout",
     "output_type": "stream",
     "text": [
      "Porcentaje de registros con Ground faltante: 0.42%\n"
     ]
    }
   ],
   "source": [
    "# Crear un flag (0 = dato presente, 1 = dato faltante)\n",
    "df['Flag_Missing_Ground'] = df['Ground'].isna().astype(int)\n",
    "missing_ground_percentage = df['Flag_Missing_Ground'].mean() * 100\n",
    "print(f\"Porcentaje de registros con Ground faltante: {missing_ground_percentage:.2f}%\")"
   ]
  },
  {
   "cell_type": "code",
   "execution_count": 159,
   "id": "34cb72ef",
   "metadata": {},
   "outputs": [
    {
     "name": "stdout",
     "output_type": "stream",
     "text": [
      "Porcentaje de registros con Fatalities faltante: 0.23%\n"
     ]
    }
   ],
   "source": [
    "# Crear un flag (0 = dato presente, 1 = dato faltante)\n",
    "df['Flag_Missing_Fatalities'] = df['Fatalities'].isna().astype(int)\n",
    "missing_Fatalities_percentage = df['Flag_Missing_Fatalities'].mean() * 100\n",
    "print(f\"Porcentaje de registros con Fatalities faltante: {missing_Fatalities_percentage:.2f}%\")"
   ]
  },
  {
   "cell_type": "code",
   "execution_count": 160,
   "id": "e9341a5a",
   "metadata": {},
   "outputs": [],
   "source": [
    "df['Aboard'] = df['Aboard'].astype(int)\n",
    "df['Fatalities'] = df['Fatalities'].fillna(0).astype(int)  "
   ]
  },
  {
   "cell_type": "markdown",
   "id": "7ae06127",
   "metadata": {},
   "source": [
    "## Final Dataframe"
   ]
  },
  {
   "cell_type": "code",
   "execution_count": 161,
   "id": "e81e6b4a",
   "metadata": {},
   "outputs": [
    {
     "name": "stdout",
     "output_type": "stream",
     "text": [
      "<class 'pandas.core.frame.DataFrame'>\n",
      "RangeIndex: 5268 entries, 0 to 5267\n",
      "Data columns (total 15 columns):\n",
      " #   Column                   Non-Null Count  Dtype         \n",
      "---  ------                   --------------  -----         \n",
      " 0   Index                    5268 non-null   int64         \n",
      " 1   Date                     5268 non-null   datetime64[ns]\n",
      " 2   Time                     5268 non-null   object        \n",
      " 3   Location                 5268 non-null   object        \n",
      " 4   Operator                 5268 non-null   object        \n",
      " 5   Route                    5268 non-null   object        \n",
      " 6   Type                     5268 non-null   object        \n",
      " 7   Registration             5268 non-null   object        \n",
      " 8   cn/In                    5268 non-null   object        \n",
      " 9   Aboard                   5268 non-null   int64         \n",
      " 10  Fatalities               5268 non-null   int64         \n",
      " 11  Ground                   5246 non-null   float64       \n",
      " 12  Summary                  5268 non-null   object        \n",
      " 13  Flag_Missing_Ground      5268 non-null   int64         \n",
      " 14  Flag_Missing_Fatalities  5268 non-null   int64         \n",
      "dtypes: datetime64[ns](1), float64(1), int64(5), object(8)\n",
      "memory usage: 617.5+ KB\n"
     ]
    }
   ],
   "source": [
    "df.info()"
   ]
  },
  {
   "cell_type": "code",
   "execution_count": 162,
   "id": "8fc685e7",
   "metadata": {},
   "outputs": [
    {
     "name": "stdout",
     "output_type": "stream",
     "text": [
      "\n",
      "Resumen final de valores nulos:\n",
      "Index                      0.000000\n",
      "Date                       0.000000\n",
      "Time                       0.000000\n",
      "Location                   0.000000\n",
      "Operator                   0.000000\n",
      "Route                      0.000000\n",
      "Type                       0.000000\n",
      "Registration               0.000000\n",
      "cn/In                      0.000000\n",
      "Aboard                     0.000000\n",
      "Fatalities                 0.000000\n",
      "Ground                     0.417616\n",
      "Summary                    0.000000\n",
      "Flag_Missing_Ground        0.000000\n",
      "Flag_Missing_Fatalities    0.000000\n",
      "dtype: float64\n"
     ]
    }
   ],
   "source": [
    "print(\"\\nResumen final de valores nulos:\")\n",
    "print(df.isnull().mean() * 100)\n"
   ]
  },
  {
   "cell_type": "code",
   "execution_count": 163,
   "id": "90d0fe27",
   "metadata": {},
   "outputs": [
    {
     "data": {
      "text/html": [
       "<div>\n",
       "<style scoped>\n",
       "    .dataframe tbody tr th:only-of-type {\n",
       "        vertical-align: middle;\n",
       "    }\n",
       "\n",
       "    .dataframe tbody tr th {\n",
       "        vertical-align: top;\n",
       "    }\n",
       "\n",
       "    .dataframe thead th {\n",
       "        text-align: right;\n",
       "    }\n",
       "</style>\n",
       "<table border=\"1\" class=\"dataframe\">\n",
       "  <thead>\n",
       "    <tr style=\"text-align: right;\">\n",
       "      <th></th>\n",
       "      <th>Index</th>\n",
       "      <th>Date</th>\n",
       "      <th>Time</th>\n",
       "      <th>Location</th>\n",
       "      <th>Operator</th>\n",
       "      <th>Route</th>\n",
       "      <th>Type</th>\n",
       "      <th>Registration</th>\n",
       "      <th>cn/In</th>\n",
       "      <th>Aboard</th>\n",
       "      <th>Fatalities</th>\n",
       "      <th>Ground</th>\n",
       "      <th>Summary</th>\n",
       "      <th>Flag_Missing_Ground</th>\n",
       "      <th>Flag_Missing_Fatalities</th>\n",
       "    </tr>\n",
       "  </thead>\n",
       "  <tbody>\n",
       "    <tr>\n",
       "      <th>0</th>\n",
       "      <td>0</td>\n",
       "      <td>1908-09-17</td>\n",
       "      <td>17:18</td>\n",
       "      <td>Fort Myer, Virginia</td>\n",
       "      <td>Military - Usa</td>\n",
       "      <td>Demonstration</td>\n",
       "      <td>wright flyer iii</td>\n",
       "      <td>NOT SPECIFIED</td>\n",
       "      <td>1</td>\n",
       "      <td>2</td>\n",
       "      <td>1</td>\n",
       "      <td>0.0</td>\n",
       "      <td>during a demonstration flight, a u.s. army fly...</td>\n",
       "      <td>0</td>\n",
       "      <td>0</td>\n",
       "    </tr>\n",
       "    <tr>\n",
       "      <th>1</th>\n",
       "      <td>1</td>\n",
       "      <td>1912-07-12</td>\n",
       "      <td>06:30</td>\n",
       "      <td>Atlanticity, New Jersey</td>\n",
       "      <td>Military - U.S. Navy</td>\n",
       "      <td>Test Flight</td>\n",
       "      <td>dirigible</td>\n",
       "      <td>NOT SPECIFIED</td>\n",
       "      <td>NOT SPECIFIED</td>\n",
       "      <td>5</td>\n",
       "      <td>5</td>\n",
       "      <td>0.0</td>\n",
       "      <td>first u.s. dirigible akron exploded just offsh...</td>\n",
       "      <td>0</td>\n",
       "      <td>0</td>\n",
       "    </tr>\n",
       "    <tr>\n",
       "      <th>2</th>\n",
       "      <td>2</td>\n",
       "      <td>1913-08-06</td>\n",
       "      <td>Not Specified</td>\n",
       "      <td>Victoria, British Columbia, Canada</td>\n",
       "      <td>Private</td>\n",
       "      <td>Not Specified</td>\n",
       "      <td>Curtiss seaplane</td>\n",
       "      <td>NOT SPECIFIED</td>\n",
       "      <td>NOT SPECIFIED</td>\n",
       "      <td>1</td>\n",
       "      <td>1</td>\n",
       "      <td>0.0</td>\n",
       "      <td>the first fatal airplane accident in canada oc...</td>\n",
       "      <td>0</td>\n",
       "      <td>0</td>\n",
       "    </tr>\n",
       "    <tr>\n",
       "      <th>3</th>\n",
       "      <td>3</td>\n",
       "      <td>1913-09-09</td>\n",
       "      <td>18:30</td>\n",
       "      <td>Over The North Sea</td>\n",
       "      <td>Military - German Navy</td>\n",
       "      <td>Not Specified</td>\n",
       "      <td>zeppelin l-1 (airship)</td>\n",
       "      <td>NOT SPECIFIED</td>\n",
       "      <td>NOT SPECIFIED</td>\n",
       "      <td>20</td>\n",
       "      <td>14</td>\n",
       "      <td>0.0</td>\n",
       "      <td>the airship flew into a thunderstorm and encou...</td>\n",
       "      <td>0</td>\n",
       "      <td>0</td>\n",
       "    </tr>\n",
       "    <tr>\n",
       "      <th>4</th>\n",
       "      <td>4</td>\n",
       "      <td>1913-10-17</td>\n",
       "      <td>10:30</td>\n",
       "      <td>Johannisthal, Germany</td>\n",
       "      <td>Military - German Navy</td>\n",
       "      <td>Not Specified</td>\n",
       "      <td>zeppelin l-2 (airship)</td>\n",
       "      <td>NOT SPECIFIED</td>\n",
       "      <td>NOT SPECIFIED</td>\n",
       "      <td>30</td>\n",
       "      <td>30</td>\n",
       "      <td>0.0</td>\n",
       "      <td>hydrogen gas which was being vented was sucked...</td>\n",
       "      <td>0</td>\n",
       "      <td>0</td>\n",
       "    </tr>\n",
       "  </tbody>\n",
       "</table>\n",
       "</div>"
      ],
      "text/plain": [
       "   Index       Date           Time                            Location  \\\n",
       "0      0 1908-09-17          17:18                 Fort Myer, Virginia   \n",
       "1      1 1912-07-12          06:30             Atlanticity, New Jersey   \n",
       "2      2 1913-08-06  Not Specified  Victoria, British Columbia, Canada   \n",
       "3      3 1913-09-09          18:30                  Over The North Sea   \n",
       "4      4 1913-10-17          10:30               Johannisthal, Germany   \n",
       "\n",
       "                 Operator          Route                    Type  \\\n",
       "0          Military - Usa  Demonstration        wright flyer iii   \n",
       "1    Military - U.S. Navy    Test Flight               dirigible   \n",
       "2                 Private  Not Specified        Curtiss seaplane   \n",
       "3  Military - German Navy  Not Specified  zeppelin l-1 (airship)   \n",
       "4  Military - German Navy  Not Specified  zeppelin l-2 (airship)   \n",
       "\n",
       "    Registration          cn/In  Aboard  Fatalities  Ground  \\\n",
       "0  NOT SPECIFIED              1       2           1     0.0   \n",
       "1  NOT SPECIFIED  NOT SPECIFIED       5           5     0.0   \n",
       "2  NOT SPECIFIED  NOT SPECIFIED       1           1     0.0   \n",
       "3  NOT SPECIFIED  NOT SPECIFIED      20          14     0.0   \n",
       "4  NOT SPECIFIED  NOT SPECIFIED      30          30     0.0   \n",
       "\n",
       "                                             Summary  Flag_Missing_Ground  \\\n",
       "0  during a demonstration flight, a u.s. army fly...                    0   \n",
       "1  first u.s. dirigible akron exploded just offsh...                    0   \n",
       "2  the first fatal airplane accident in canada oc...                    0   \n",
       "3  the airship flew into a thunderstorm and encou...                    0   \n",
       "4  hydrogen gas which was being vented was sucked...                    0   \n",
       "\n",
       "   Flag_Missing_Fatalities  \n",
       "0                        0  \n",
       "1                        0  \n",
       "2                        0  \n",
       "3                        0  \n",
       "4                        0  "
      ]
     },
     "execution_count": 163,
     "metadata": {},
     "output_type": "execute_result"
    }
   ],
   "source": [
    "df.head()"
   ]
  },
  {
   "cell_type": "markdown",
   "id": "1dccbccb",
   "metadata": {},
   "source": [
    "# Puntaje Final"
   ]
  },
  {
   "cell_type": "code",
   "execution_count": 164,
   "id": "eeadc901",
   "metadata": {},
   "outputs": [],
   "source": [
    "df.to_csv(\"dataframe_final.csv\", index=False, encoding='utf-8-sig')"
   ]
  },
  {
   "cell_type": "code",
   "execution_count": 165,
   "id": "84227916",
   "metadata": {},
   "outputs": [],
   "source": [
    "df_clean = pd.read_csv(\"dataframe_final.csv\", encoding='utf-8-sig')"
   ]
  },
  {
   "cell_type": "code",
   "execution_count": 166,
   "id": "df34ff90",
   "metadata": {},
   "outputs": [
    {
     "name": "stdout",
     "output_type": "stream",
     "text": [
      "Completitud: 99.97%\n",
      "Validez: 99.86%\n",
      "Exactitud: 100.00%\n",
      "Consistencia: 99.90%\n",
      "Unicidad: 100.00%\n",
      "Oportunidad basada en última década: 69.65%\n",
      "\n",
      "=== SCORE GLOBAL DE CALIDAD ===\n",
      "Calidad total de los datos: 94.90%\n"
     ]
    }
   ],
   "source": [
    "import re\n",
    "from datetime import datetime\n",
    "\n",
    "# --- Variables iniciales ---\n",
    "total_rows = df_clean.shape[0]\n",
    "total_values = df_clean.shape[0] * df_clean.shape[1]\n",
    "\n",
    "# --- Completitud ---\n",
    "non_null_values = df_clean.notnull().sum().sum()\n",
    "completitud_score = (non_null_values / total_values) * 100\n",
    "print(f\"Completitud: {completitud_score:.2f}%\")\n",
    "\n",
    "# --- Validez ---\n",
    "valid_fatalities = df_clean[df_clean['Fatalities'] <= df_clean['Aboard']].shape[0]\n",
    "valid_ground = df_clean[df_clean['Ground'] >= 0].shape[0]\n",
    "\n",
    "# Aceptar 'Not Specified' como válido en Time\n",
    "valid_time = df_clean['Time'].dropna().apply(\n",
    "    lambda x: bool(re.match(r'^\\d{1,2}:\\d{2}$', str(x))) or x == 'Not Specified'\n",
    ").sum()\n",
    "\n",
    "total_time = df_clean['Time'].notna().sum()\n",
    "\n",
    "validez_score = ((valid_fatalities + valid_ground + valid_time) / (total_rows + total_rows + total_time)) * 100\n",
    "print(f\"Validez: {validez_score:.2f}%\")\n",
    "\n",
    "# --- Exactitud ---\n",
    "valid_aboard = df_clean[(df_clean['Aboard'] >= 0) & (df_clean['Aboard'] <= 1000)].shape[0]\n",
    "valid_fatalities_count = df_clean[df_clean['Fatalities'] >= 0].shape[0]\n",
    "\n",
    "exactitud_score = ((valid_aboard + valid_fatalities_count) / (2 * total_rows)) * 100\n",
    "print(f\"Exactitud: {exactitud_score:.2f}%\")\n",
    "\n",
    "# --- Consistencia ---\n",
    "rule_1 = (df_clean['Fatalities'] <= df_clean['Aboard'])\n",
    "rule_2 = (df_clean['Ground'] >= 0)\n",
    "rule_3 = ((df_clean['Aboard'] == 0) & (df_clean['Fatalities'] == 0)) | ((df_clean['Aboard'] > 0) & df_clean['Fatalities'].notna())\n",
    "\n",
    "def valid_time_func(x):\n",
    "    return pd.isna(x) or bool(re.match(r'^\\d{1,2}:\\d{2}$', str(x))) or x == 'Not Specified'\n",
    "\n",
    "rule_4 = df_clean['Time'].apply(valid_time_func)\n",
    "\n",
    "total_rules = rule_1.sum() + rule_2.sum() + rule_3.sum() + rule_4.sum()\n",
    "max_rules = total_rows * 4\n",
    "\n",
    "consistencia_score = (total_rules / max_rules) * 100\n",
    "print(f\"Consistencia: {consistencia_score:.2f}%\")\n",
    "\n",
    "# --- Unicidad ---\n",
    "unique_rows = df_clean.drop_duplicates().shape[0]\n",
    "unicidad_score = (unique_rows / total_rows) * 100\n",
    "print(f\"Unicidad: {unicidad_score:.2f}%\")\n",
    "\n",
    "# --- Oportunidad ---\n",
    "df_clean['Date'] = pd.to_datetime(df_clean['Date'], errors='coerce')\n",
    "df_clean['Year'] = df_clean['Date'].dt.year\n",
    "\n",
    "decade_counts = df_clean.groupby((df_clean['Year'] // 10) * 10).size()\n",
    "\n",
    "last_decade = decade_counts.iloc[-1]\n",
    "max_decade = decade_counts.max()\n",
    "\n",
    "timeliness_score = (last_decade / max_decade) * 100\n",
    "print(f\"Oportunidad basada en última década: {timeliness_score:.2f}%\")\n",
    "\n",
    "# --- Score global ---\n",
    "global_quality_score = (\n",
    "    completitud_score +\n",
    "    validez_score +\n",
    "    exactitud_score +\n",
    "    consistencia_score +\n",
    "    unicidad_score +\n",
    "    timeliness_score\n",
    ") / 6\n",
    "\n",
    "print(\"\\n=== SCORE GLOBAL DE CALIDAD ===\")\n",
    "print(f\"Calidad total de los datos: {global_quality_score:.2f}%\")"
   ]
  }
 ],
 "metadata": {
  "kernelspec": {
   "display_name": "Python 3",
   "language": "python",
   "name": "python3"
  },
  "language_info": {
   "codemirror_mode": {
    "name": "ipython",
    "version": 3
   },
   "file_extension": ".py",
   "mimetype": "text/x-python",
   "name": "python",
   "nbconvert_exporter": "python",
   "pygments_lexer": "ipython3",
   "version": "3.12.1"
  }
 },
 "nbformat": 4,
 "nbformat_minor": 5
}
