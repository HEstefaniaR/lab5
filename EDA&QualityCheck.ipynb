{
 "cells": [
  {
   "cell_type": "code",
   "execution_count": 42,
   "id": "95706f31",
   "metadata": {},
   "outputs": [],
   "source": [
    "import pandas as pd\n",
    "import numpy as np\n",
    "from datetime import datetime"
   ]
  },
  {
   "cell_type": "markdown",
   "id": "9d351abe",
   "metadata": {},
   "source": [
    "Exploratory Data Analysis"
   ]
  },
  {
   "cell_type": "code",
   "execution_count": 43,
   "id": "fc4d7392",
   "metadata": {},
   "outputs": [
    {
     "name": "stdout",
     "output_type": "stream",
     "text": [
      "<class 'pandas.core.frame.DataFrame'>\n",
      "RangeIndex: 5268 entries, 0 to 5267\n",
      "Data columns (total 14 columns):\n",
      " #   Column        Non-Null Count  Dtype  \n",
      "---  ------        --------------  -----  \n",
      " 0   index         5268 non-null   int64  \n",
      " 1   Date          5268 non-null   object \n",
      " 2   Time          3049 non-null   object \n",
      " 3   Location      5248 non-null   object \n",
      " 4   Operator      5250 non-null   object \n",
      " 5   Flight #      1069 non-null   object \n",
      " 6   Route         3561 non-null   object \n",
      " 7   Type          5241 non-null   object \n",
      " 8   Registration  4933 non-null   object \n",
      " 9   cn/In         4040 non-null   object \n",
      " 10  Aboard        5246 non-null   float64\n",
      " 11  Fatalities    5256 non-null   float64\n",
      " 12  Ground        5246 non-null   float64\n",
      " 13  Summary       4878 non-null   object \n",
      "dtypes: float64(3), int64(1), object(10)\n",
      "memory usage: 576.3+ KB\n"
     ]
    },
    {
     "data": {
      "text/html": [
       "<div>\n",
       "<style scoped>\n",
       "    .dataframe tbody tr th:only-of-type {\n",
       "        vertical-align: middle;\n",
       "    }\n",
       "\n",
       "    .dataframe tbody tr th {\n",
       "        vertical-align: top;\n",
       "    }\n",
       "\n",
       "    .dataframe thead th {\n",
       "        text-align: right;\n",
       "    }\n",
       "</style>\n",
       "<table border=\"1\" class=\"dataframe\">\n",
       "  <thead>\n",
       "    <tr style=\"text-align: right;\">\n",
       "      <th></th>\n",
       "      <th>index</th>\n",
       "      <th>Date</th>\n",
       "      <th>Time</th>\n",
       "      <th>Location</th>\n",
       "      <th>Operator</th>\n",
       "      <th>Flight #</th>\n",
       "      <th>Route</th>\n",
       "      <th>Type</th>\n",
       "      <th>Registration</th>\n",
       "      <th>cn/In</th>\n",
       "      <th>Aboard</th>\n",
       "      <th>Fatalities</th>\n",
       "      <th>Ground</th>\n",
       "      <th>Summary</th>\n",
       "    </tr>\n",
       "  </thead>\n",
       "  <tbody>\n",
       "    <tr>\n",
       "      <th>0</th>\n",
       "      <td>0</td>\n",
       "      <td>09/17/1908</td>\n",
       "      <td>17:18</td>\n",
       "      <td>Fort Myer, Virginia</td>\n",
       "      <td>Military - U.S. Army</td>\n",
       "      <td>NaN</td>\n",
       "      <td>Demonstration</td>\n",
       "      <td>Wright Flyer III</td>\n",
       "      <td>NaN</td>\n",
       "      <td>1</td>\n",
       "      <td>2.0</td>\n",
       "      <td>1.0</td>\n",
       "      <td>0.0</td>\n",
       "      <td>During a demonstration flight, a U.S. Army fly...</td>\n",
       "    </tr>\n",
       "    <tr>\n",
       "      <th>1</th>\n",
       "      <td>1</td>\n",
       "      <td>07/12/1912</td>\n",
       "      <td>06:30</td>\n",
       "      <td>AtlantiCity, New Jersey</td>\n",
       "      <td>Military - U.S. Navy</td>\n",
       "      <td>NaN</td>\n",
       "      <td>Test flight</td>\n",
       "      <td>Dirigible</td>\n",
       "      <td>NaN</td>\n",
       "      <td>NaN</td>\n",
       "      <td>5.0</td>\n",
       "      <td>5.0</td>\n",
       "      <td>0.0</td>\n",
       "      <td>First U.S. dirigible Akron exploded just offsh...</td>\n",
       "    </tr>\n",
       "    <tr>\n",
       "      <th>2</th>\n",
       "      <td>2</td>\n",
       "      <td>08/06/1913</td>\n",
       "      <td>NaN</td>\n",
       "      <td>Victoria, British Columbia, Canada</td>\n",
       "      <td>Private</td>\n",
       "      <td>-</td>\n",
       "      <td>NaN</td>\n",
       "      <td>Curtiss seaplane</td>\n",
       "      <td>NaN</td>\n",
       "      <td>NaN</td>\n",
       "      <td>1.0</td>\n",
       "      <td>1.0</td>\n",
       "      <td>0.0</td>\n",
       "      <td>The first fatal airplane accident in Canada oc...</td>\n",
       "    </tr>\n",
       "    <tr>\n",
       "      <th>3</th>\n",
       "      <td>3</td>\n",
       "      <td>09/09/1913</td>\n",
       "      <td>18:30</td>\n",
       "      <td>Over the North Sea</td>\n",
       "      <td>Military - German Navy</td>\n",
       "      <td>NaN</td>\n",
       "      <td>NaN</td>\n",
       "      <td>Zeppelin L-1 (airship)</td>\n",
       "      <td>NaN</td>\n",
       "      <td>NaN</td>\n",
       "      <td>20.0</td>\n",
       "      <td>14.0</td>\n",
       "      <td>0.0</td>\n",
       "      <td>The airship flew into a thunderstorm and encou...</td>\n",
       "    </tr>\n",
       "    <tr>\n",
       "      <th>4</th>\n",
       "      <td>4</td>\n",
       "      <td>10/17/1913</td>\n",
       "      <td>10:30</td>\n",
       "      <td>Near Johannisthal, Germany</td>\n",
       "      <td>Military - German Navy</td>\n",
       "      <td>NaN</td>\n",
       "      <td>NaN</td>\n",
       "      <td>Zeppelin L-2 (airship)</td>\n",
       "      <td>NaN</td>\n",
       "      <td>NaN</td>\n",
       "      <td>30.0</td>\n",
       "      <td>30.0</td>\n",
       "      <td>0.0</td>\n",
       "      <td>Hydrogen gas which was being vented was sucked...</td>\n",
       "    </tr>\n",
       "  </tbody>\n",
       "</table>\n",
       "</div>"
      ],
      "text/plain": [
       "   index        Date   Time                            Location  \\\n",
       "0      0  09/17/1908  17:18                 Fort Myer, Virginia   \n",
       "1      1  07/12/1912  06:30             AtlantiCity, New Jersey   \n",
       "2      2  08/06/1913    NaN  Victoria, British Columbia, Canada   \n",
       "3      3  09/09/1913  18:30                  Over the North Sea   \n",
       "4      4  10/17/1913  10:30          Near Johannisthal, Germany   \n",
       "\n",
       "                 Operator Flight #          Route                    Type  \\\n",
       "0    Military - U.S. Army      NaN  Demonstration        Wright Flyer III   \n",
       "1    Military - U.S. Navy      NaN    Test flight               Dirigible   \n",
       "2                 Private        -            NaN        Curtiss seaplane   \n",
       "3  Military - German Navy      NaN            NaN  Zeppelin L-1 (airship)   \n",
       "4  Military - German Navy      NaN            NaN  Zeppelin L-2 (airship)   \n",
       "\n",
       "  Registration cn/In  Aboard  Fatalities  Ground  \\\n",
       "0          NaN     1     2.0         1.0     0.0   \n",
       "1          NaN   NaN     5.0         5.0     0.0   \n",
       "2          NaN   NaN     1.0         1.0     0.0   \n",
       "3          NaN   NaN    20.0        14.0     0.0   \n",
       "4          NaN   NaN    30.0        30.0     0.0   \n",
       "\n",
       "                                             Summary  \n",
       "0  During a demonstration flight, a U.S. Army fly...  \n",
       "1  First U.S. dirigible Akron exploded just offsh...  \n",
       "2  The first fatal airplane accident in Canada oc...  \n",
       "3  The airship flew into a thunderstorm and encou...  \n",
       "4  Hydrogen gas which was being vented was sucked...  "
      ]
     },
     "execution_count": 43,
     "metadata": {},
     "output_type": "execute_result"
    }
   ],
   "source": [
    "df = pd.read_csv(\"data/Airplane_Crashes_and_Fatalities_Since_1908.csv\")\n",
    "df.info()\n",
    "df.head()"
   ]
  },
  {
   "cell_type": "code",
   "execution_count": 45,
   "id": "eea4afe7",
   "metadata": {},
   "outputs": [
    {
     "name": "stdout",
     "output_type": "stream",
     "text": [
      "Dimensiones: (5268, 14)\n"
     ]
    }
   ],
   "source": [
    "# Número de filas y columnas\n",
    "print(\"Dimensiones:\", df.shape)"
   ]
  },
  {
   "cell_type": "code",
   "execution_count": 46,
   "id": "14998c89",
   "metadata": {},
   "outputs": [
    {
     "name": "stdout",
     "output_type": "stream",
     "text": [
      "            index       Aboard   Fatalities       Ground\n",
      "count  5268.00000  5246.000000  5256.000000  5246.000000\n",
      "mean   2633.50000    27.554518    20.068303     1.608845\n",
      "std    1520.88494    43.076711    33.199952    53.987827\n",
      "min       0.00000     0.000000     0.000000     0.000000\n",
      "25%    1316.75000     5.000000     3.000000     0.000000\n",
      "50%    2633.50000    13.000000     9.000000     0.000000\n",
      "75%    3950.25000    30.000000    23.000000     0.000000\n",
      "max    5267.00000   644.000000   583.000000  2750.000000\n"
     ]
    }
   ],
   "source": [
    "# Estadísticas descriptivas\n",
    "print(df.describe())"
   ]
  },
  {
   "cell_type": "code",
   "execution_count": 47,
   "id": "b59d97ee",
   "metadata": {},
   "outputs": [
    {
     "name": "stdout",
     "output_type": "stream",
     "text": [
      "index           5268\n",
      "Date            4753\n",
      "Time            1005\n",
      "Location        4303\n",
      "Operator        2476\n",
      "Flight #         724\n",
      "Route           3243\n",
      "Type            2446\n",
      "Registration    4905\n",
      "cn/In           3707\n",
      "Aboard           239\n",
      "Fatalities       191\n",
      "Ground            50\n",
      "Summary         4673\n",
      "dtype: int64\n"
     ]
    }
   ],
   "source": [
    "# Conteo de valores por columna\n",
    "print(df.nunique())"
   ]
  },
  {
   "cell_type": "code",
   "execution_count": 48,
   "id": "a37f8c48",
   "metadata": {},
   "outputs": [
    {
     "name": "stdout",
     "output_type": "stream",
     "text": [
      "              Date   Time           Location  Operator Flight #     Route  \\\n",
      "count         5268   3049               5248      5250     1069      3561   \n",
      "unique        4753   1005               4303      2476      724      3243   \n",
      "top     09/11/2001  15:00  Sao Paulo, Brazil  Aeroflot        -  Training   \n",
      "freq             4     32                 15       179       67        81   \n",
      "\n",
      "                Type Registration cn/In                  Summary  \n",
      "count           5241         4933  4040                     4878  \n",
      "unique          2446         4905  3707                     4673  \n",
      "top     Douglas DC-3           49   178  Crashed during takeoff.  \n",
      "freq             334            3     6                       15  \n"
     ]
    }
   ],
   "source": [
    "# Estadísticas también para categóricas\n",
    "print(df.describe(include='object'))"
   ]
  },
  {
   "cell_type": "markdown",
   "id": "08f2b045",
   "metadata": {},
   "source": [
    "Normalize and renaming columns"
   ]
  },
  {
   "cell_type": "code",
   "execution_count": 49,
   "id": "f578c789",
   "metadata": {},
   "outputs": [],
   "source": [
    "# Normalizamos nombres de columnas quitando espacios extra\n",
    "df.columns = [c.strip() for c in df.columns]\n",
    "# index,Date,Time,Location,Operator,Flight #,Route,Type,Registration,cn/In,Aboard,Fatalities,Ground,Summary\n",
    "df = df.rename(columns={'index':'Index','Flight #':'FlightNumber'})"
   ]
  },
  {
   "cell_type": "markdown",
   "id": "25239776",
   "metadata": {},
   "source": [
    "Exploratory Quality Check"
   ]
  },
  {
   "cell_type": "markdown",
   "id": "d8d30d5c",
   "metadata": {},
   "source": [
    "a. Tipo de dato y valores faltantes"
   ]
  },
  {
   "cell_type": "code",
   "execution_count": 31,
   "id": "8e560ded",
   "metadata": {},
   "outputs": [
    {
     "name": "stdout",
     "output_type": "stream",
     "text": [
      "Tipo de dato por columna\n",
      "Index             int64\n",
      "Date             object\n",
      "Time             object\n",
      "Location         object\n",
      "Operator         object\n",
      "FlightNumber     object\n",
      "Route            object\n",
      "Type             object\n",
      "Registration     object\n",
      "cn/In            object\n",
      "Aboard          float64\n",
      "Fatalities      float64\n",
      "Ground          float64\n",
      "Summary          object\n",
      "dtype: object\n"
     ]
    }
   ],
   "source": [
    "print(\"Tipo de dato por columna\")\n",
    "print(df.dtypes)"
   ]
  },
  {
   "cell_type": "code",
   "execution_count": 50,
   "id": "767076c9",
   "metadata": {},
   "outputs": [
    {
     "name": "stdout",
     "output_type": "stream",
     "text": [
      "Total valores nulos por columna\n",
      "Index              0\n",
      "Date               0\n",
      "Time            2219\n",
      "Location          20\n",
      "Operator          18\n",
      "FlightNumber    4199\n",
      "Route           1707\n",
      "Type              27\n",
      "Registration     335\n",
      "cn/In           1228\n",
      "Aboard            22\n",
      "Fatalities        12\n",
      "Ground            22\n",
      "Summary          390\n",
      "dtype: int64\n"
     ]
    }
   ],
   "source": [
    "print(\"Total valores nulos por columna\")\n",
    "print(df.isnull().sum())"
   ]
  },
  {
   "cell_type": "code",
   "execution_count": 51,
   "id": "9853e05d",
   "metadata": {},
   "outputs": [
    {
     "name": "stdout",
     "output_type": "stream",
     "text": [
      "Porcentaje de valores nulos por columna\n",
      "Index            0.000000\n",
      "Date             0.000000\n",
      "Time            42.122248\n",
      "Location         0.379651\n",
      "Operator         0.341686\n",
      "FlightNumber    79.707669\n",
      "Route           32.403189\n",
      "Type             0.512528\n",
      "Registration     6.359150\n",
      "cn/In           23.310554\n",
      "Aboard           0.417616\n",
      "Fatalities       0.227790\n",
      "Ground           0.417616\n",
      "Summary          7.403189\n",
      "dtype: float64\n"
     ]
    }
   ],
   "source": [
    "print(\"Porcentaje de valores nulos por columna\")\n",
    "print(df.isnull().mean() * 100)"
   ]
  },
  {
   "cell_type": "markdown",
   "id": "7313ef6e",
   "metadata": {},
   "source": [
    "b. unique values by column"
   ]
  },
  {
   "cell_type": "code",
   "execution_count": 23,
   "id": "190a476d",
   "metadata": {},
   "outputs": [
    {
     "name": "stdout",
     "output_type": "stream",
     "text": [
      "Index: 5268 valores únicos\n",
      "Date: 4753 valores únicos\n",
      "Time: 1005 valores únicos\n",
      "Location: 4303 valores únicos\n",
      "Operator: 2476 valores únicos\n",
      "FlightNumber: 724 valores únicos\n",
      "Route: 3243 valores únicos\n",
      "Type: 2446 valores únicos\n",
      "Registration: 4905 valores únicos\n",
      "cn/In: 3707 valores únicos\n",
      "Aboard: 239 valores únicos\n",
      "Fatalities: 191 valores únicos\n",
      "Ground: 50 valores únicos\n",
      "Summary: 4673 valores únicos\n"
     ]
    }
   ],
   "source": [
    "for col in df.columns:\n",
    "    print(f\"{col}: {df[col].nunique()} valores únicos\")"
   ]
  },
  {
   "cell_type": "markdown",
   "id": "36dd8fda",
   "metadata": {},
   "source": [
    "c. INVALID FORMATS"
   ]
  },
  {
   "cell_type": "markdown",
   "id": "9551e3ab",
   "metadata": {},
   "source": [
    "Date and Time"
   ]
  },
  {
   "cell_type": "code",
   "execution_count": null,
   "id": "d616a522",
   "metadata": {},
   "outputs": [
    {
     "name": "stdout",
     "output_type": "stream",
     "text": [
      "number of invalid dates: 0\n",
      "\n",
      "Valid Dates Range:\n",
      "Minimun Date: 1908-09-17 00:00:00\n",
      "Maximiun Date: 2009-06-08 00:00:00\n"
     ]
    }
   ],
   "source": [
    "#  'Date' to datetime, forcing error to NaT\n",
    "df['Date'] = pd.to_datetime(df['Date'], errors='coerce')\n",
    "\n",
    "#count invalid dates\n",
    "invalid_dates_count = df['Date'].isna().sum()\n",
    "\n",
    "print(f\"number of invalid dates: {invalid_dates_count}\")\n",
    "\n",
    "print(f\"\\nValid Dates Range:\")\n",
    "print(f\"Minimun Date: {df['Date'].min()}\")\n",
    "print(f\"Maximiun Date: {df['Date'].max()}\")"
   ]
  },
  {
   "cell_type": "code",
   "execution_count": null,
   "id": "d4585173",
   "metadata": {},
   "outputs": [
    {
     "name": "stdout",
     "output_type": "stream",
     "text": [
      "Número de fechas menores a 1908: 0\n",
      "Número de fechas mayores a 2025: 0\n"
     ]
    }
   ],
   "source": [
    "# Verificar fechas menores a 1908 o mayores a 2025\n",
    "fecha_minima = pd.to_datetime('1908-01-01')\n",
    "fechas_menores_1908 = df[df['Date'] < fecha_minima]\n",
    "print(f\"Número de fechas menores a 1908: {len(fechas_menores_1908)}\")\n",
    "fecha_maxima = pd.to_datetime('2025-09-17')\n",
    "fechas_mayores_2025 = df[df['Date'] > fecha_maxima] \n",
    "print(f\"Número de fechas mayores a 2025: {len(fechas_mayores_2025)}\")\n"
   ]
  },
  {
   "cell_type": "code",
   "execution_count": 79,
   "id": "94b78657",
   "metadata": {},
   "outputs": [
    {
     "name": "stdout",
     "output_type": "stream",
     "text": [
      "Valores faltantes: 0 (0.0%)\n",
      "Format not HH:MM: 2238\n"
     ]
    }
   ],
   "source": [
    "#Time\n",
    "\n",
    "print(f\"Valores faltantes: {df['Time'].isna().sum()} ({df['Time'].isna().mean()*100:.1f}%)\")\n",
    "\n",
    "# Verify format HH:MM with regular expressions\n",
    "weird_format = df['Time'].dropna()[~df['Time'].dropna().str.match(r'^\\d{2}:\\d{2}$')]\n",
    "print(f\"Format not HH:MM: {len(weird_format)}\")\n"
   ]
  },
  {
   "cell_type": "markdown",
   "id": "3fe82bf5",
   "metadata": {},
   "source": [
    "d. NULL VALUES"
   ]
  },
  {
   "cell_type": "markdown",
   "id": "216d2b88",
   "metadata": {},
   "source": [
    "Filling null values of category columns"
   ]
  },
  {
   "cell_type": "code",
   "execution_count": null,
   "id": "5fb90c5a",
   "metadata": {},
   "outputs": [
    {
     "name": "stdout",
     "output_type": "stream",
     "text": [
      "null values after filling:\n",
      "Time            0\n",
      "Location        0\n",
      "Operator        0\n",
      "FlightNumber    0\n",
      "Route           0\n",
      "Type            0\n",
      "Registration    0\n",
      "cn/In           0\n",
      "Summary         0\n",
      "dtype: int64\n"
     ]
    }
   ],
   "source": [
    "# Columnas categóricas donde aplicar \"sin especificar\"\n",
    "category_columns = ['Time', 'Location', 'Operator', 'FlightNumber', 'Route', \n",
    "                       'Type', 'Registration', 'cn/In', 'Summary']\n",
    "\n",
    "# Llenar valores nulos con \"sin especificar\" en todas las columnas categóricas\n",
    "for columna in category_columns:\n",
    "    df[columna] = df[columna].fillna('not specified')\n",
    "\n",
    "# Verificar resultados\n",
    "print(\"null values after filling:\")\n",
    "print(df[category_columns].isnull().sum())"
   ]
  },
  {
   "cell_type": "markdown",
   "id": "a411df4d",
   "metadata": {},
   "source": [
    "creating new columns for NaN  values of numeric columns"
   ]
  },
  {
   "cell_type": "code",
   "execution_count": 98,
   "id": "f97d56b1",
   "metadata": {},
   "outputs": [
    {
     "name": "stdout",
     "output_type": "stream",
     "text": [
      "Null values in Aboard: 22\n",
      "Null values in Fatalities: 12\n",
      "Null values in Ground: 22\n"
     ]
    }
   ],
   "source": [
    "\n",
    "# Null values True: 1, False: 0\n",
    "df['flag_missing_aboard'] = df['Aboard'].isna().astype(int)  \n",
    "df['flag_missing_fatalities'] = df['Fatalities'].isna().astype(int)  \n",
    "df['flag_missing_ground'] = df['Ground'].isna().astype(int)     \n",
    "\n",
    "print(f\"Null values in Aboard: {df['flag_missing_aboard'].sum()}\")\n",
    "print(f\"Null values in Fatalities: {df['flag_missing_fatalities'].sum()}\")\n",
    "print(f\"Null values in Ground: {df['flag_missing_ground'].sum()}\")  \n"
   ]
  },
  {
   "cell_type": "code",
   "execution_count": 121,
   "id": "491ae27a",
   "metadata": {},
   "outputs": [
    {
     "data": {
      "text/plain": [
       "Index                           0\n",
       "Date                            0\n",
       "Time                            0\n",
       "Location                        0\n",
       "Operator                        0\n",
       "FlightNumber                    0\n",
       "Route                           0\n",
       "Type                            0\n",
       "Registration                    0\n",
       "cn/In                           0\n",
       "Aboard                         22\n",
       "Fatalities                     12\n",
       "Ground                         22\n",
       "Summary                         0\n",
       "flag_missing_aboard             0\n",
       "flag_missing_fatalities         0\n",
       "flag_missing_ground             0\n",
       "flag_missing_aboard_int         0\n",
       "flag_missing_fatalities_int     0\n",
       "Location_clean                  0\n",
       "Route_category                  0\n",
       "Type_clean                      0\n",
       "Type_standardized               0\n",
       "is_dup_key                      0\n",
       "dtype: int64"
      ]
     },
     "execution_count": 121,
     "metadata": {},
     "output_type": "execute_result"
    }
   ],
   "source": [
    "df.isnull().sum()"
   ]
  },
  {
   "cell_type": "markdown",
   "id": "b8a0163e",
   "metadata": {},
   "source": [
    "Category Formats"
   ]
  },
  {
   "cell_type": "code",
   "execution_count": null,
   "id": "6d1d932b",
   "metadata": {},
   "outputs": [
    {
     "name": "stdout",
     "output_type": "stream",
     "text": [
      "\n",
      "=== VARIATIONS IN LOCATION ===\n",
      "Values with less than 5 occurrences:\n",
      "Location\n",
      "Near Kathmandu, Nepal                5\n",
      "Kansas City, Kansas                  5\n",
      "Elizabeth, New Jersey                5\n",
      "Seattle, Washington                  5\n",
      "Fairbanks, Alaska                    5\n",
      "                                    ..\n",
      "Near Charana, Bolivia                1\n",
      "Monte Matto, Italy                   1\n",
      "Misaki Mountain, Japan               1\n",
      "Angelholm, Sweden                    1\n",
      "State of Arunachal Pradesh, India    1\n",
      "Name: count, Length: 4264, dtype: int64\n",
      "\n",
      "=== VARIATIONS IN OPERATOR ===\n",
      "Values with less than 5 occurrences:\n",
      "Operator\n",
      "Military - Indonesian Air Force        5\n",
      "Aeronaves de Mexico                    5\n",
      "Syndicato Condor                       5\n",
      "LANSA                                  5\n",
      "Military - Nicaraguan Air Force        5\n",
      "                                      ..\n",
      "Military - Argentine Navy              1\n",
      "Richland Flying Service - Air Taxii    1\n",
      "Harbor Airlines - Air Taxi             1\n",
      "Aerovias Venezolanas SA (Venezuela)    1\n",
      "Strait Air                             1\n",
      "Name: count, Length: 2345, dtype: int64\n",
      "\n",
      "=== VARIATIONS IN TYPE ===\n",
      "Values with less than 5 occurrences:\n",
      "Type\n",
      "Tupolev TU-154M                5\n",
      "Embraer EMB-110 Bandeirante    5\n",
      "Learjet 23                     5\n",
      "Douglas C-118A                 5\n",
      "de Havilland DH-86             5\n",
      "                              ..\n",
      "Boeing 727-21                  1\n",
      "NAMC-YS-11-111                 1\n",
      "Lockheed EC-121H               1\n",
      "Cessna 205A                    1\n",
      "Airbus A330-203                1\n",
      "Name: count, Length: 2316, dtype: int64\n",
      "\n",
      "=== VARIATIONS IN ROUTE ===\n",
      "Values with less than 5 occurrences:\n",
      "Route\n",
      "Sao Paulo - Rio de Janeiro    5\n",
      "Saigon - Paris                4\n",
      "Sao Paulo - Porto Alegre      4\n",
      "Bogota - Barranquilla         4\n",
      "Villavicencio - Mitu          4\n",
      "                             ..\n",
      "Manila - Lapu Lapu            1\n",
      "Saint Denis - Paris           1\n",
      "Cork - London                 1\n",
      "Peoria, IL - St. Louis, MO    1\n",
      "Mechuka for Jorhat            1\n",
      "Name: count, Length: 3239, dtype: int64\n",
      "\n",
      "=== VARIATIONS IN REGISTRATION ===\n",
      "Values with less than 5 occurrences:\n",
      "Registration\n",
      "49            3\n",
      "CP-45         2\n",
      "CCCP-46724    2\n",
      "012           2\n",
      "128441        2\n",
      "             ..\n",
      "PI-C489       1\n",
      "N842D         1\n",
      "N724US        1\n",
      "CCCP-11193    1\n",
      "C-FJJR        1\n",
      "Name: count, Length: 4905, dtype: int64\n",
      "\n",
      "=== VARIATIONS IN CN/IN ===\n",
      "Values with less than 5 occurrences:\n",
      "cn/In\n",
      "229         5\n",
      "19          5\n",
      "213         5\n",
      "125         5\n",
      "1           4\n",
      "           ..\n",
      "1114        1\n",
      "19410       1\n",
      "42929       1\n",
      "45794/52    1\n",
      "424         1\n",
      "Name: count, Length: 3706, dtype: int64\n"
     ]
    }
   ],
   "source": [
    "category_formats = ['Location', 'Operator', 'Type', 'Route', 'Registration', 'cn/In']\n",
    "\n",
    "# 2. Function to find variations\n",
    "def find_variations(column_name, threshold=10):\n",
    "    print(f\"\\n=== VARIATIONS IN {column_name.upper()} ===\")\n",
    "    count = df[column_name].value_counts()\n",
    "    \n",
    "    # Show values with few occurrences (potential variations)\n",
    "    variations = count[count <= threshold]\n",
    "    print(f\"Values with less than {threshold} occurrences:\")\n",
    "    print(variations)\n",
    "    \n",
    "    return variations\n",
    "\n",
    "# Review variations in all columns\n",
    "for column in category_formats:\n",
    "    find_variations(column, threshold=5)"
   ]
  },
  {
   "cell_type": "code",
   "execution_count": 108,
   "id": "83cc8058",
   "metadata": {},
   "outputs": [
    {
     "name": "stdout",
     "output_type": "stream",
     "text": [
      "Location cleaning completed!\n",
      "Before vs After examples:\n",
      "Fort Myer, Virginia -> Fort Myer, Virginia\n",
      "AtlantiCity, New Jersey -> Atlanticity, New Jersey\n",
      "Victoria, British Columbia, Canada -> Victoria, British Columbia, Canada\n",
      "Over the North Sea -> Over The North Sea\n",
      "Near Johannisthal, Germany -> Johannisthal, Germany\n"
     ]
    }
   ],
   "source": [
    "import re\n",
    "\n",
    "def clean_location(location):\n",
    "    \"\"\"\n",
    "    Automated cleaning for worldwide locations\n",
    "    Maintains original format but removes common inconsistencies\n",
    "    \"\"\"\n",
    "    if pd.isna(location):\n",
    "        return location\n",
    "    \n",
    "    location = str(location)\n",
    "    \n",
    "    # Remove common prefixes and unnecessary words\n",
    "    remove_patterns = [\n",
    "        r'^near\\s+', r'^approx\\s+', r'^around\\s+', r'^close to\\s+',\n",
    "        r'\\s+\\(.*?\\)',  # Remove anything in parentheses\n",
    "        r'\\s+\\[.*?\\]',  # Remove anything in brackets\n",
    "        r'\\s+off\\s+',   # Remove 'off' \n",
    "        r'\\s+area$', r'\\s+region$',  # Remove area/region suffixes\n",
    "    ]\n",
    "    \n",
    "    for pattern in remove_patterns:\n",
    "        location = re.sub(pattern, '', location, flags=re.IGNORECASE)\n",
    "    \n",
    "    # Standardize country names (minimal essential mapping)\n",
    "    country_mapping = {\n",
    "        r'USA|U\\.S\\.A\\.|United States|U\\.S\\.': 'USA',\n",
    "        r'UK|U\\.K\\.|United Kingdom|England|Britain': 'UK',\n",
    "        r'Russia|USSR|Soviet Union': 'Russia',\n",
    "        r'\\.': '',  # Remove dots from abbreviations\n",
    "    }\n",
    "    \n",
    "    for pattern, replacement in country_mapping.items():\n",
    "        location = re.sub(pattern, replacement, location, flags=re.IGNORECASE)\n",
    "    \n",
    "    # Clean up formatting\n",
    "    location = location.strip()\n",
    "    location = re.sub(r'\\s+', ' ', location)  # Remove extra spaces\n",
    "    location = location.title()  # Title case\n",
    "    \n",
    "    return location\n",
    "\n",
    "# Apply automated cleaning\n",
    "df['Location_clean'] = df['Location'].apply(clean_location)\n",
    "\n",
    "# Verify results\n",
    "print(\"Location cleaning completed!\")\n",
    "print(\"Before vs After examples:\")\n",
    "for i in range(5):\n",
    "    print(f\"{df['Location'].iloc[i]} -> {df['Location_clean'].iloc[i]}\")"
   ]
  },
  {
   "cell_type": "code",
   "execution_count": 109,
   "id": "d998eb9e",
   "metadata": {},
   "outputs": [
    {
     "name": "stdout",
     "output_type": "stream",
     "text": [
      "=== ROUTE COLUMN ANALYSIS ===\n",
      "Unique values in Route (top 15):\n",
      "Route\n",
      "not specified                 1707\n",
      "Training                        81\n",
      "Sightseeing                     29\n",
      "Test flight                     17\n",
      "Test                             6\n",
      "Sao Paulo - Rio de Janeiro       5\n",
      "Saigon - Paris                   4\n",
      "Sao Paulo - Porto Alegre         4\n",
      "Bogota - Barranquilla            4\n",
      "Villavicencio - Mitu             4\n",
      "Huambo - Luanda                  3\n",
      "Quito - Cuenca                   3\n",
      "Davao - Manila                   3\n",
      "Rio de Janeiro - Sao Paulo       3\n",
      "Burbank - Oakland                3\n",
      "Name: count, dtype: int64\n"
     ]
    }
   ],
   "source": [
    "print(\"=== ROUTE COLUMN ANALYSIS ===\")\n",
    "print(\"Unique values in Route (top 15):\")\n",
    "print(df['Route'].value_counts().head(15))"
   ]
  },
  {
   "cell_type": "code",
   "execution_count": null,
   "id": "dadf2f81",
   "metadata": {},
   "outputs": [],
   "source": [
    "# delete the spaces at the beginning and end\n",
    "df['Type_clean'] = df['Type'].str.strip()"
   ]
  },
  {
   "cell_type": "code",
   "execution_count": 118,
   "id": "1ea42ca3",
   "metadata": {},
   "outputs": [],
   "source": [
    "def categorize_route(route):\n",
    "    \"\"\"\n",
    "    Minimal route categorization - just the essentials\n",
    "    \"\"\"\n",
    "    if pd.isna(route) or (route_str := str(route).strip()) == '':\n",
    "        return 'Not Specified'\n",
    "    \n",
    "    # Only handle the most common cases\n",
    "    if route_str.lower() == 'not specified':\n",
    "        return 'Not Specified'\n",
    "    elif route_str.lower() == 'test':\n",
    "        return 'Test Flight'\n",
    "    elif route_str.lower() == 'test flight':\n",
    "        return 'Test Flight'\n",
    "    elif route_str.lower() in ['training', 'sightseeing', 'demonstration']:\n",
    "        return route_str.title()\n",
    "    \n",
    "    # For routes, just do basic cleaning\n",
    "    if '-' in route_str or ' to ' in route_str.lower():\n",
    "        return re.sub(r'\\s+to\\s+', ' - ', route_str, flags=re.IGNORECASE).title()\n",
    "    \n",
    "    return route_str.title()\n",
    "\n",
    "\n",
    "df['Route_category'] = df['Route'].apply(categorize_route)"
   ]
  },
  {
   "cell_type": "code",
   "execution_count": 110,
   "id": "98cd67b5",
   "metadata": {},
   "outputs": [
    {
     "name": "stdout",
     "output_type": "stream",
     "text": [
      "=== TYPE COLUMN ANALYSIS ===\n",
      "Unique values in Type (top 15):\n",
      "Type\n",
      "Douglas DC-3                                334\n",
      "de Havilland Canada DHC-6 Twin Otter 300     81\n",
      "Douglas C-47A                                74\n",
      "Douglas C-47                                 62\n",
      "Douglas DC-4                                 40\n",
      "Yakovlev YAK-40                              37\n",
      "Antonov AN-26                                36\n",
      "Junkers JU-52/3m                             32\n",
      "Douglas C-47B                                29\n",
      "De Havilland DH-4                            28\n",
      "not specified                                27\n",
      "Douglas DC-6B                                27\n",
      "Breguet 14                                   23\n",
      "Curtiss C-46A                                21\n",
      "Douglas C-47-DL                              20\n",
      "Name: count, dtype: int64\n"
     ]
    }
   ],
   "source": [
    "print(\"=== TYPE COLUMN ANALYSIS ===\") \n",
    "print(\"Unique values in Type (top 15):\")\n",
    "print(df['Type'].value_counts().head(15))"
   ]
  },
  {
   "cell_type": "code",
   "execution_count": 119,
   "id": "52f736e2",
   "metadata": {},
   "outputs": [
    {
     "name": "stdout",
     "output_type": "stream",
     "text": [
      "Manufacturer standardization completed!\n",
      "\n",
      "Top 15 standardized types:\n",
      "Type_standardized\n",
      "Douglas DC-3                                334\n",
      "De Havilland Canada DHC-6 Twin Otter 300     81\n",
      "Douglas C-47A                                74\n",
      "Douglas C-47                                 62\n",
      "Douglas DC-4                                 40\n",
      "Yakovlev YAK-40                              37\n",
      "Antonov AN-26                                36\n",
      "Junkers JU-52/3m                             32\n",
      "Douglas C-47B                                29\n",
      "De Havilland DH-4                            28\n",
      "Douglas DC-6B                                27\n",
      "Not Specified                                27\n",
      "Breguet 14                                   23\n",
      "Curtiss C-46A                                21\n",
      "Douglas C-47-DL                              20\n",
      "Name: count, dtype: int64\n",
      "\n",
      "Before vs After examples:\n",
      "de Havilland Canada DHC-6 Twin Otter 300 -> De Havilland Canada DHC-6 Twin Otter 300\n",
      "De Havilland DH-4 -> De Havilland DH-4\n",
      "douglas dc-3 -> Douglas dc-3\n",
      "Douglas C-47A -> Douglas C-47A\n"
     ]
    }
   ],
   "source": [
    "def standardize_manufacturers(aircraft_type):\n",
    "    \"\"\"\n",
    "    Standardize manufacturer names to consistent capitalization\n",
    "    \"\"\"\n",
    "    if pd.isna(aircraft_type) or (type_str := str(aircraft_type).strip()) == '':\n",
    "        return 'Not Specified'\n",
    "    \n",
    "    if type_str.lower() == 'not specified':\n",
    "        return 'Not Specified'\n",
    "    \n",
    "    # Estandarizar nombres de fabricantes (similar al 'to' de rutas)\n",
    "    manufacturer_standardization = {\n",
    "        r'\\bde havilland\\b': 'De Havilland',\n",
    "        r'\\bdouglas\\b': 'Douglas',\n",
    "        r'\\bboeing\\b': 'Boeing', \n",
    "        r'\\bairbus\\b': 'Airbus',\n",
    "        r'\\bantonov\\b': 'Antonov',\n",
    "        r'\\byakovlev\\b': 'Yakovlev',\n",
    "        r'\\bjunkers\\b': 'Junkers',\n",
    "        r'\\bcurtiss\\b': 'Curtiss',\n",
    "        r'\\bbreguet\\b': 'Breguet'\n",
    "    }\n",
    "    \n",
    "    # Aplicar estandarización de fabricantes\n",
    "    for pattern, replacement in manufacturer_standardization.items():\n",
    "        type_str = re.sub(pattern, replacement, type_str, flags=re.IGNORECASE)\n",
    "    \n",
    "    return type_str\n",
    "\n",
    "# Apply manufacturer standardization\n",
    "df['Type_standardized'] = df['Type'].apply(standardize_manufacturers)\n",
    "\n",
    "# Verify results\n",
    "print(\"Manufacturer standardization completed!\")\n",
    "print(\"\\nTop 15 standardized types:\")\n",
    "print(df['Type_standardized'].value_counts().head(15))\n",
    "\n",
    "# Check specific examples\n",
    "print(\"\\nBefore vs After examples:\")\n",
    "examples = [\n",
    "    'de Havilland Canada DHC-6 Twin Otter 300',\n",
    "    'De Havilland DH-4', \n",
    "    'douglas dc-3',\n",
    "    'Douglas C-47A'\n",
    "]\n",
    "\n",
    "for example in examples:\n",
    "    result = standardize_manufacturers(example)\n",
    "    print(f\"{example} -> {result}\")"
   ]
  },
  {
   "cell_type": "markdown",
   "id": "0c178851",
   "metadata": {},
   "source": [
    "Duplicated Records"
   ]
  },
  {
   "cell_type": "code",
   "execution_count": 120,
   "id": "81d9c658",
   "metadata": {},
   "outputs": [
    {
     "name": "stdout",
     "output_type": "stream",
     "text": [
      "Duplicados EXACTOS en todo el registro: 0\n",
      "Duplicados por clave ['Date', 'Location', 'Operator', 'Type']: 0\n"
     ]
    },
    {
     "data": {
      "text/html": [
       "<div>\n",
       "<style scoped>\n",
       "    .dataframe tbody tr th:only-of-type {\n",
       "        vertical-align: middle;\n",
       "    }\n",
       "\n",
       "    .dataframe tbody tr th {\n",
       "        vertical-align: top;\n",
       "    }\n",
       "\n",
       "    .dataframe thead th {\n",
       "        text-align: right;\n",
       "    }\n",
       "</style>\n",
       "<table border=\"1\" class=\"dataframe\">\n",
       "  <thead>\n",
       "    <tr style=\"text-align: right;\">\n",
       "      <th></th>\n",
       "      <th>Index</th>\n",
       "      <th>Date</th>\n",
       "      <th>Time</th>\n",
       "      <th>Location</th>\n",
       "      <th>Operator</th>\n",
       "      <th>FlightNumber</th>\n",
       "      <th>Route</th>\n",
       "      <th>Type</th>\n",
       "      <th>Registration</th>\n",
       "      <th>cn/In</th>\n",
       "      <th>...</th>\n",
       "      <th>flag_missing_aboard</th>\n",
       "      <th>flag_missing_fatalities</th>\n",
       "      <th>flag_missing_ground</th>\n",
       "      <th>flag_missing_aboard_int</th>\n",
       "      <th>flag_missing_fatalities_int</th>\n",
       "      <th>Location_clean</th>\n",
       "      <th>Route_category</th>\n",
       "      <th>Type_clean</th>\n",
       "      <th>Type_standardized</th>\n",
       "      <th>is_dup_key</th>\n",
       "    </tr>\n",
       "  </thead>\n",
       "  <tbody>\n",
       "  </tbody>\n",
       "</table>\n",
       "<p>0 rows × 24 columns</p>\n",
       "</div>"
      ],
      "text/plain": [
       "Empty DataFrame\n",
       "Columns: [Index, Date, Time, Location, Operator, FlightNumber, Route, Type, Registration, cn/In, Aboard, Fatalities, Ground, Summary, flag_missing_aboard, flag_missing_fatalities, flag_missing_ground, flag_missing_aboard_int, flag_missing_fatalities_int, Location_clean, Route_category, Type_clean, Type_standardized, is_dup_key]\n",
       "Index: []\n",
       "\n",
       "[0 rows x 24 columns]"
      ]
     },
     "metadata": {},
     "output_type": "display_data"
    }
   ],
   "source": [
    "# --- Revisar duplicados exactos en todo el dataset ---\n",
    "n_exact_dups = df.duplicated().sum()\n",
    "print(f\"Duplicados EXACTOS en todo el registro: {n_exact_dups}\")\n",
    "\n",
    "# --- Revisar duplicados por clave lógica (Date + Location + Operator + Type) ---\n",
    "key_cols = ['Date', 'Location', 'Operator', 'Type']\n",
    "\n",
    "# Filtrar filas que aparecen más de una vez con la misma clave\n",
    "df['is_dup_key'] = df.duplicated(subset=key_cols, keep=False)\n",
    "\n",
    "# Cuántos duplicados hay según esa clave\n",
    "n_dup_key = df['is_dup_key'].sum()\n",
    "print(f\"Duplicados por clave {key_cols}: {n_dup_key}\")\n",
    "\n",
    "# Mostrar ejemplos de duplicados\n",
    "dup_examples = df[df['is_dup_key']].sort_values(key_cols).head(20)\n",
    "display(dup_examples)\n"
   ]
  }
 ],
 "metadata": {
  "kernelspec": {
   "display_name": "Python 3",
   "language": "python",
   "name": "python3"
  },
  "language_info": {
   "codemirror_mode": {
    "name": "ipython",
    "version": 3
   },
   "file_extension": ".py",
   "mimetype": "text/x-python",
   "name": "python",
   "nbconvert_exporter": "python",
   "pygments_lexer": "ipython3",
   "version": "3.12.10"
  }
 },
 "nbformat": 4,
 "nbformat_minor": 5
}
